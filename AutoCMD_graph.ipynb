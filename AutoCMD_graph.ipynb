{
 "cells": [
  {
   "cell_type": "code",
   "execution_count": 22,
   "metadata": {},
   "outputs": [],
   "source": [
    "import os"
   ]
  },
  {
   "cell_type": "code",
   "execution_count": 27,
   "metadata": {},
   "outputs": [],
   "source": [
    "def GetInfoFromls(avils):\n",
    "    actions=[]\n",
    "    for i in avils:\n",
    "        i=i.replace('\\\\', '/')\n",
    "        actions.append(i.split('/')[-2])\n",
    "    return list(set(actions))"
   ]
  },
  {
   "cell_type": "code",
   "execution_count": 28,
   "metadata": {},
   "outputs": [],
   "source": [
    "def GetInfoFromPath(file_dir):\n",
    "    AVIS=[]\n",
    "    for dirpath,dirnames,filenames in os.walk(file_dir, topdown=False):\n",
    "        for filename in filenames: #遍历所有有文件的文件夹\n",
    "            #输出文件所在文件夹路径\n",
    "            if filename[-4:] == '.jpg':\n",
    "                AVIS.append(dirpath+'/'+filename)\n",
    "    actions=GetInfoFromls(AVIS)\n",
    "    return actions"
   ]
  },
  {
   "cell_type": "code",
   "execution_count": 29,
   "metadata": {},
   "outputs": [],
   "source": [
    "def GetInput():\n",
    "    rawpath = input('please input the path (to the mainfolder):')\n",
    "    realpath = rawpath.replace('\\\\', '/')\n",
    "    Mfolder = realpath.split('/')[-1]\n",
    "    activity = GetInfoFromPath(realpath)\n",
    "    pts = input('input the process points:')\n",
    "    vnum = input(\"Input the number of pics: \")\n",
    "    md = eval(input('input the model sequence:  1-cmu_640x360,2-cmu_640x480, 3-mobilenet_thin_432x368 '))\n",
    "    if md == 1:\n",
    "        modelname = 'cmu_640x360'\n",
    "    elif md == 2:\n",
    "        modelname = 'cmu_640x480'\n",
    "    else:\n",
    "        modelname = 'mobilenet_thin_432x368'\n",
    "    return activity,vnum,realpath,Mfolder,pts,modelname"
   ]
  },
  {
   "cell_type": "code",
   "execution_count": 30,
   "metadata": {
    "scrolled": true
   },
   "outputs": [
    {
     "name": "stdout",
     "output_type": "stream",
     "text": [
      "please input the path (to the mainfolder):C:\\Users\\LuisR\\Desktop\\visapient\\Pic\n",
      "input the process points:36\n",
      "Input the number of pics: 645\n",
      "input the model sequence:  1-cmu_640x360,2-cmu_640x480, 3-mobilenet_thin_432x368 2\n"
     ]
    }
   ],
   "source": [
    "action,videonum,path,MainFolder,points,model=GetInput()"
   ]
  },
  {
   "cell_type": "code",
   "execution_count": 31,
   "metadata": {},
   "outputs": [
    {
     "name": "stdout",
     "output_type": "stream",
     "text": [
      "['tree', 'crescent_lunge']\n",
      "645\n",
      "C:/Users/LuisR/Desktop/visapient/Pic\n",
      "Pic\n",
      "36\n",
      "cmu_640x480\n"
     ]
    }
   ],
   "source": [
    "print(action)\n",
    "print(videonum)\n",
    "print(path)\n",
    "print(MainFolder)\n",
    "print(points)\n",
    "print(model)"
   ]
  },
  {
   "cell_type": "code",
   "execution_count": null,
   "metadata": {},
   "outputs": [],
   "source": []
  },
  {
   "cell_type": "code",
   "execution_count": 32,
   "metadata": {},
   "outputs": [],
   "source": [
    "def CreateNewDir(act,path,pt,modelname):\n",
    "    for i in range(len(act)):\n",
    "        NewPath = path + '/'+ str(pt) +'points/'+ modelname + '/' + act[i]\n",
    "        try:\n",
    "            os.makedirs(NewPath)\n",
    "        except FileExistsError:\n",
    "            pass\n",
    "#创建新的data文件夹，用来装后续生成的txt文件"
   ]
  },
  {
   "cell_type": "code",
   "execution_count": 33,
   "metadata": {},
   "outputs": [],
   "source": [
    "CreateNewDir(action,path,points,model)"
   ]
  },
  {
   "cell_type": "code",
   "execution_count": 49,
   "metadata": {},
   "outputs": [],
   "source": [
    "def ToDoc(act,vnum,MFolder,pt,modelname):\n",
    "    doc = open('out_image.txt','w')\n",
    "    k=1\n",
    "    for i in range((len(act))):\n",
    "        for m in range(1):\n",
    "            for j in range(int(vnum)):\n",
    "                h = str(j)\n",
    "                print('python src/{5}points/run_figure.py --image {3}/{0}/{2}.jpg --output {3}/{5}points/{6}/{0}/{2}.txt  --model {6}'.format(act[i], m+1, h, MFolder,k,pt,modelname), file=doc)\n",
    "    doc.close()\n",
    "#循环创建全部指令，输出至文件"
   ]
  },
  {
   "cell_type": "code",
   "execution_count": 50,
   "metadata": {},
   "outputs": [],
   "source": [
    "ToDoc(action,videonum,MainFolder,points,model)"
   ]
  },
  {
   "cell_type": "code",
   "execution_count": 47,
   "metadata": {},
   "outputs": [],
   "source": [
    "def ReadDoc():\n",
    "    result=[]\n",
    "    with open('out.txt','r') as f:\n",
    "        for line in f.readlines():\n",
    "            lines=line.strip('\\n')\n",
    "            result.append(lines)\n",
    "    return result\n",
    "#从文件中读入全部指令放入列表"
   ]
  },
  {
   "cell_type": "code",
   "execution_count": 13,
   "metadata": {},
   "outputs": [],
   "source": [
    "cmd=ReadDoc()"
   ]
  },
  {
   "cell_type": "code",
   "execution_count": 15,
   "metadata": {},
   "outputs": [
    {
     "data": {
      "text/plain": [
       "360"
      ]
     },
     "execution_count": 15,
     "metadata": {},
     "output_type": "execute_result"
    }
   ],
   "source": [
    "len(cmd)"
   ]
  },
  {
   "cell_type": "code",
   "execution_count": 16,
   "metadata": {},
   "outputs": [],
   "source": [
    "def RunCMD(comm):\n",
    "    for i in range(len(comm)):\n",
    "        try:\n",
    "            os.system(comm[i])\n",
    "        except FileNotFoundError:\n",
    "            pass\n",
    "#运行生成的所有cmd指令，将文件输出至新生成的data文件夹中"
   ]
  },
  {
   "cell_type": "code",
   "execution_count": 17,
   "metadata": {},
   "outputs": [],
   "source": [
    "RunCMD(cmd)"
   ]
  },
  {
   "cell_type": "code",
   "execution_count": null,
   "metadata": {},
   "outputs": [],
   "source": []
  }
 ],
 "metadata": {
  "kernelspec": {
   "display_name": "Python 3",
   "language": "python",
   "name": "python3"
  },
  "language_info": {
   "codemirror_mode": {
    "name": "ipython",
    "version": 3
   },
   "file_extension": ".py",
   "mimetype": "text/x-python",
   "name": "python",
   "nbconvert_exporter": "python",
   "pygments_lexer": "ipython3",
   "version": "3.7.0"
  }
 },
 "nbformat": 4,
 "nbformat_minor": 2
}
