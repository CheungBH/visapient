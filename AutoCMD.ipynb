{
 "cells": [
  {
   "cell_type": "code",
   "execution_count": 1,
   "metadata": {},
   "outputs": [],
   "source": [
    "import os"
   ]
  },
  {
   "cell_type": "code",
   "execution_count": 2,
   "metadata": {},
   "outputs": [],
   "source": [
    "def GetVNum(strls):\n",
    "    num=[]\n",
    "    for i in strls:\n",
    "        num.append(int(i[-5]))\n",
    "    return max(num)+1"
   ]
  },
  {
   "cell_type": "code",
   "execution_count": 3,
   "metadata": {},
   "outputs": [],
   "source": [
    "def GetPNum(strls):\n",
    "    num=[]\n",
    "    for i in strls:\n",
    "        num.append(int(i[-1]))\n",
    "    return max(num)"
   ]
  },
  {
   "cell_type": "code",
   "execution_count": 4,
   "metadata": {},
   "outputs": [],
   "source": [
    "def GetInfoFromls(avils):\n",
    "    actions=[]\n",
    "    peoplestr=[]\n",
    "    videostr=[]\n",
    "    for i in avils:\n",
    "        i=i.replace('\\\\', '/')\n",
    "        actions.append(i.split('/')[-3])\n",
    "        peoplestr.append(i.split('/')[-2])\n",
    "        videostr.append(i.split('/')[-1])\n",
    "        people=GetPNum(peoplestr)\n",
    "        video=GetVNum(videostr)\n",
    "    return list(set(actions)),people,video"
   ]
  },
  {
   "cell_type": "code",
   "execution_count": 5,
   "metadata": {},
   "outputs": [],
   "source": [
    "def GetInfoFromPath(file_dir):\n",
    "    AVIS=[]\n",
    "    for dirpath,dirnames,filenames in os.walk(file_dir, topdown=False):\n",
    "        for filename in filenames: #遍历所有有文件的文件夹\n",
    "            #输出文件所在文件夹路径\n",
    "            if filename[-4:] == '.avi':\n",
    "                AVIS.append(dirpath+'/'+filename)\n",
    "    actions,people,video=GetInfoFromls(AVIS)\n",
    "    return actions,people,video"
   ]
  },
  {
   "cell_type": "code",
   "execution_count": 8,
   "metadata": {},
   "outputs": [],
   "source": [
    "def GetInput():\n",
    "    rawpath = input('please input the path (to the mainfolder):')\n",
    "    realpath = rawpath.replace('\\\\', '/')\n",
    "    Mfolder = realpath.split('/')[-1]\n",
    "    activity,peo,vnum=GetInfoFromPath(realpath)\n",
    "    frames=input('input your frame list (seperated by \",\"):')\n",
    "    pts = input('input the process points:')\n",
    "    md = eval(input('input the model sequence:  1-cmu_640x360,2-cmu_640x480, 3-mobilenet_thin_432x368 '))\n",
    "    if md == 1:\n",
    "        modelname = 'cmu_640x360'\n",
    "    elif md == 2:\n",
    "        modelname = 'cmu_640x480'\n",
    "    else:\n",
    "        modelname = 'mobilenet_thin_432x368'\n",
    "    framelist = frames.split(\",\")\n",
    "    framesint=[ int(x) for x in framelist ]\n",
    "    return activity,peo,framesint,vnum,realpath,Mfolder,pts,modelname"
   ]
  },
  {
   "cell_type": "code",
   "execution_count": 9,
   "metadata": {
    "scrolled": true
   },
   "outputs": [
    {
     "name": "stdout",
     "output_type": "stream",
     "text": [
      "please input the path (to the mainfolder):C:\\Users\\LuisR\\Desktop\\visapient2\\Video\\TrainVideo\\golf0213_side\n",
      "input your frame list (seperated by \",\"):15,20\n",
      "input the process points:36\n",
      "input the model sequence:  1-cmu_640x360,2-cmu_640x480, 3-mobilenet_thin_432x368 3\n"
     ]
    }
   ],
   "source": [
    "action,people,frame,videonum,path,MainFolder,points,model=GetInput()"
   ]
  },
  {
   "cell_type": "code",
   "execution_count": 18,
   "metadata": {},
   "outputs": [
    {
     "data": {
      "text/plain": [
       "'mobilenet_thin_432x368'"
      ]
     },
     "execution_count": 18,
     "metadata": {},
     "output_type": "execute_result"
    }
   ],
   "source": [
    "model"
   ]
  },
  {
   "cell_type": "code",
   "execution_count": null,
   "metadata": {},
   "outputs": [],
   "source": []
  },
  {
   "cell_type": "code",
   "execution_count": 21,
   "metadata": {},
   "outputs": [],
   "source": [
    "def CreateNewDir(act,peo,framesls,path,pt,modelname):\n",
    "    for m in framesls:\n",
    "        for i in range(len(act)):\n",
    "            for j in range(peo):\n",
    "                NewPath = path + '/'+ str(pt) +'points/'+ modelname + '/data_' + str(m) + '/' + act[i] + '/p' + str(j + 1)\n",
    "                os.makedirs(NewPath)\n",
    "#创建新的data文件夹，用来装后续生成的txt文件"
   ]
  },
  {
   "cell_type": "code",
   "execution_count": 22,
   "metadata": {},
   "outputs": [],
   "source": [
    "CreateNewDir(action,people,frame,path,points,model)"
   ]
  },
  {
   "cell_type": "code",
   "execution_count": 26,
   "metadata": {},
   "outputs": [],
   "source": [
    "def ToDoc(act,peo,framesls,vnum,MFolder,pt,modelname):\n",
    "    doc = open('out.txt','w')\n",
    "    for k in framesls:\n",
    "        for i in range((len(act))):\n",
    "            for m in range(peo):\n",
    "                for j in range(vnum):\n",
    "                    h = str(j)\n",
    "                    print('python src/{5}points/run_video_output{4}.py --video Video/TrainVideo/{3}/{0}/p{1}/{2}.avi --output Video/TrainVideo/{3}/{5}points/{6}/data_{4}/{0}/p{1}/{2}.txt  --model {6}'.format(act[i], m+1, h.zfill(2), MFolder,k,pt,modelname), file=doc)\n",
    "    doc.close()\n",
    "#循环创建全部指令，输出至文件"
   ]
  },
  {
   "cell_type": "code",
   "execution_count": 27,
   "metadata": {},
   "outputs": [],
   "source": [
    "ToDoc(action,people,frame,videonum,MainFolder,points,model)"
   ]
  },
  {
   "cell_type": "code",
   "execution_count": 12,
   "metadata": {},
   "outputs": [],
   "source": [
    "def ReadDoc():\n",
    "    result=[]\n",
    "    with open('out.txt','r') as f:\n",
    "        for line in f.readlines():\n",
    "            lines=line.strip('\\n')\n",
    "            result.append(lines)\n",
    "    return result\n",
    "#从文件中读入全部指令放入列表"
   ]
  },
  {
   "cell_type": "code",
   "execution_count": 13,
   "metadata": {},
   "outputs": [],
   "source": [
    "cmd=ReadDoc()"
   ]
  },
  {
   "cell_type": "code",
   "execution_count": 15,
   "metadata": {},
   "outputs": [
    {
     "data": {
      "text/plain": [
       "360"
      ]
     },
     "execution_count": 15,
     "metadata": {},
     "output_type": "execute_result"
    }
   ],
   "source": [
    "len(cmd)"
   ]
  },
  {
   "cell_type": "code",
   "execution_count": 16,
   "metadata": {},
   "outputs": [],
   "source": [
    "def RunCMD(comm):\n",
    "    for i in range(len(comm)):\n",
    "        os.system(comm[i])\n",
    "#运行生成的所有cmd指令，将文件输出至新生成的data文件夹中"
   ]
  },
  {
   "cell_type": "code",
   "execution_count": 17,
   "metadata": {},
   "outputs": [],
   "source": [
    "RunCMD(cmd)"
   ]
  },
  {
   "cell_type": "code",
   "execution_count": null,
   "metadata": {},
   "outputs": [],
   "source": []
  }
 ],
 "metadata": {
  "kernelspec": {
   "display_name": "Python 3",
   "language": "python",
   "name": "python3"
  },
  "language_info": {
   "codemirror_mode": {
    "name": "ipython",
    "version": 3
   },
   "file_extension": ".py",
   "mimetype": "text/x-python",
   "name": "python",
   "nbconvert_exporter": "python",
   "pygments_lexer": "ipython3",
   "version": "3.7.0"
  }
 },
 "nbformat": 4,
 "nbformat_minor": 2
}
