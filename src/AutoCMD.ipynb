{
 "cells": [
  {
   "cell_type": "code",
   "execution_count": 136,
   "metadata": {},
   "outputs": [],
   "source": [
    "import os\n"
   ]
  },
  {
   "cell_type": "code",
   "execution_count": 137,
   "metadata": {},
   "outputs": [],
   "source": [
    "def GetVNum(strls):\n",
    "    num=[]\n",
    "    for i in strls:\n",
    "        num.append(int(i[-5]))\n",
    "    return max(num)+1"
   ]
  },
  {
   "cell_type": "code",
   "execution_count": 138,
   "metadata": {},
   "outputs": [],
   "source": [
    "def GetPNum(strls):\n",
    "    num=[]\n",
    "    for i in strls:\n",
    "        num.append(int(i[-1]))\n",
    "    return max(num)"
   ]
  },
  {
   "cell_type": "code",
   "execution_count": 139,
   "metadata": {},
   "outputs": [],
   "source": [
    "def GetInfoFromls(avils):\n",
    "    actions=[]\n",
    "    peoplestr=[]\n",
    "    videostr=[]\n",
    "    for i in avils:\n",
    "        i=i.replace('\\\\', '/')\n",
    "        actions.append(i.split('/')[-3])\n",
    "        peoplestr.append(i.split('/')[-2])\n",
    "        videostr.append(i.split('/')[-1])\n",
    "        people=GetPNum(peoplestr)\n",
    "        video=GetVNum(videostr)\n",
    "    return list(set(actions)),people,video"
   ]
  },
  {
   "cell_type": "code",
   "execution_count": 150,
   "metadata": {},
   "outputs": [],
   "source": [
    "def GetInfoFromPath(file_dir):\n",
    "    AVIS=[]\n",
    "    for dirpath,dirnames,filenames in os.walk(file_dir, topdown=False):\n",
    "        for filename in filenames: #遍历所有有文件的文件夹\n",
    "            #输出文件所在文件夹路径\n",
    "            if filename[-4:] == '.avi':\n",
    "                AVIS.append(dirpath+'/'+filename)\n",
    "    actions,people,video=GetInfoFromls(AVIS)\n",
    "    return actions,people,video"
   ]
  },
  {
   "cell_type": "code",
   "execution_count": 151,
   "metadata": {},
   "outputs": [],
   "source": [
    "def GetInput():\n",
    "    rawpath = input('please input the path (to the mainfolder):')\n",
    "    realpath = rawpath.replace('\\\\', '/')\n",
    "    Mfolder = realpath.split('/')[-1]\n",
    "    activity,peo,vnum=GetInfoFromPath(realpath)\n",
    "    frames=input('input your frame list (seperated by \",\"):')\n",
    "    framelist = frames.split(\",\")\n",
    "    framesint=[ int(x) for x in framelist ]\n",
    "    return activity,peo,framesint,vnum,realpath,Mfolder"
   ]
  },
  {
   "cell_type": "code",
   "execution_count": 152,
   "metadata": {},
   "outputs": [
    {
     "name": "stdout",
     "output_type": "stream",
     "text": [
      "please input the path (to the mainfolder):C:\\Users\\LuisR\\Desktop\\visapient\\Video\\TrainVideo\\golf0210\n",
      "input your frame list (seperated by \",\"):15\n"
     ]
    }
   ],
   "source": [
    "action,people,frame,videonum,path,MainFolder=GetInput()"
   ]
  },
  {
   "cell_type": "code",
   "execution_count": 153,
   "metadata": {},
   "outputs": [
    {
     "data": {
      "text/plain": [
       "['UWrongFoot',\n",
       " 'SRight',\n",
       " 'FRight',\n",
       " 'WPoor',\n",
       " 'UNoTurn',\n",
       " 'FWrong',\n",
       " 'WWrongFoot',\n",
       " 'WRight',\n",
       " 'URight',\n",
       " 'UWrongArm',\n",
       " 'WNoTurn',\n",
       " 'SWrong']"
      ]
     },
     "execution_count": 153,
     "metadata": {},
     "output_type": "execute_result"
    }
   ],
   "source": [
    "action"
   ]
  },
  {
   "cell_type": "code",
   "execution_count": 154,
   "metadata": {},
   "outputs": [
    {
     "data": {
      "text/plain": [
       "6"
      ]
     },
     "execution_count": 154,
     "metadata": {},
     "output_type": "execute_result"
    }
   ],
   "source": [
    "people"
   ]
  },
  {
   "cell_type": "code",
   "execution_count": 155,
   "metadata": {},
   "outputs": [
    {
     "data": {
      "text/plain": [
       "6"
      ]
     },
     "execution_count": 155,
     "metadata": {},
     "output_type": "execute_result"
    }
   ],
   "source": [
    "videonum"
   ]
  },
  {
   "cell_type": "code",
   "execution_count": null,
   "metadata": {},
   "outputs": [],
   "source": []
  },
  {
   "cell_type": "code",
   "execution_count": null,
   "metadata": {},
   "outputs": [],
   "source": []
  },
  {
   "cell_type": "code",
   "execution_count": 49,
   "metadata": {},
   "outputs": [
    {
     "name": "stdout",
     "output_type": "stream",
     "text": [
      "please input the path (to the mainfolder):C:\\Users\\LuisR\\Desktop\\visapient\\Video\\TrainVideo\\golf0213_driving\n"
     ]
    }
   ],
   "source": [
    "rawpath = input('please input the path (to the mainfolder):')"
   ]
  },
  {
   "cell_type": "code",
   "execution_count": null,
   "metadata": {},
   "outputs": [],
   "source": []
  },
  {
   "cell_type": "code",
   "execution_count": 83,
   "metadata": {},
   "outputs": [],
   "source": [
    "str1=['p1','p2','p3','p6']"
   ]
  },
  {
   "cell_type": "code",
   "execution_count": 88,
   "metadata": {},
   "outputs": [],
   "source": [
    "num=GetPNum(str1)"
   ]
  },
  {
   "cell_type": "code",
   "execution_count": 89,
   "metadata": {},
   "outputs": [
    {
     "data": {
      "text/plain": [
       "6"
      ]
     },
     "execution_count": 89,
     "metadata": {},
     "output_type": "execute_result"
    }
   ],
   "source": [
    "num"
   ]
  },
  {
   "cell_type": "code",
   "execution_count": 133,
   "metadata": {},
   "outputs": [],
   "source": [
    "vls=['01.avi','06.avi','04.avi','00.avi','05.avi','03.avi']"
   ]
  },
  {
   "cell_type": "code",
   "execution_count": 134,
   "metadata": {},
   "outputs": [],
   "source": [
    "vn=GetVNum(vls)"
   ]
  },
  {
   "cell_type": "code",
   "execution_count": 135,
   "metadata": {},
   "outputs": [
    {
     "data": {
      "text/plain": [
       "6"
      ]
     },
     "execution_count": 135,
     "metadata": {},
     "output_type": "execute_result"
    }
   ],
   "source": [
    "vn"
   ]
  },
  {
   "cell_type": "code",
   "execution_count": null,
   "metadata": {},
   "outputs": [],
   "source": []
  },
  {
   "cell_type": "code",
   "execution_count": null,
   "metadata": {},
   "outputs": [],
   "source": []
  },
  {
   "cell_type": "code",
   "execution_count": 50,
   "metadata": {},
   "outputs": [
    {
     "data": {
      "text/plain": [
       "'C:\\\\Users\\\\LuisR\\\\Desktop\\\\visapient\\\\Video\\\\TrainVideo\\\\golf0213_driving'"
      ]
     },
     "execution_count": 50,
     "metadata": {},
     "output_type": "execute_result"
    }
   ],
   "source": [
    "rawpath"
   ]
  },
  {
   "cell_type": "code",
   "execution_count": 51,
   "metadata": {},
   "outputs": [],
   "source": [
    "realpath = rawpath.replace('\\\\', '/')"
   ]
  },
  {
   "cell_type": "code",
   "execution_count": 112,
   "metadata": {},
   "outputs": [
    {
     "data": {
      "text/plain": [
       "'C:/Users/LuisR/Desktop/visapient/Video/TrainVideo/golf0213_driving'"
      ]
     },
     "execution_count": 112,
     "metadata": {},
     "output_type": "execute_result"
    }
   ],
   "source": [
    "realpath"
   ]
  },
  {
   "cell_type": "code",
   "execution_count": 53,
   "metadata": {},
   "outputs": [],
   "source": [
    "Mfolder = realpath.split('/')[-1]"
   ]
  },
  {
   "cell_type": "code",
   "execution_count": 54,
   "metadata": {},
   "outputs": [
    {
     "data": {
      "text/plain": [
       "'golf0213_driving'"
      ]
     },
     "execution_count": 54,
     "metadata": {},
     "output_type": "execute_result"
    }
   ],
   "source": [
    "Mfolder"
   ]
  },
  {
   "cell_type": "code",
   "execution_count": 116,
   "metadata": {},
   "outputs": [],
   "source": [
    "AVIS=[]"
   ]
  },
  {
   "cell_type": "code",
   "execution_count": 117,
   "metadata": {},
   "outputs": [],
   "source": [
    " for dirpath,dirnames,filenames in os.walk(realpath, topdown=False):\n",
    "        for filename in filenames: #遍历所有有文件的文件夹\n",
    "            #输出文件所在文件夹路径\n",
    "            if filename[-4:] == '.avi':\n",
    "                #dirpath = dirpath.replace('\\\\', '/')\n",
    "                AVIS.append(dirpath+'/'+filename)"
   ]
  },
  {
   "cell_type": "code",
   "execution_count": 118,
   "metadata": {},
   "outputs": [
    {
     "data": {
      "text/plain": [
       "['C:/Users/LuisR/Desktop/visapient/Video/TrainVideo/golf0213_driving\\\\DFNoFinish\\\\p1/00.avi',\n",
       " 'C:/Users/LuisR/Desktop/visapient/Video/TrainVideo/golf0213_driving\\\\DFNoFinish\\\\p1/01.avi',\n",
       " 'C:/Users/LuisR/Desktop/visapient/Video/TrainVideo/golf0213_driving\\\\DFNoFinish\\\\p1/02.avi',\n",
       " 'C:/Users/LuisR/Desktop/visapient/Video/TrainVideo/golf0213_driving\\\\DFNoFinish\\\\p1/03.avi',\n",
       " 'C:/Users/LuisR/Desktop/visapient/Video/TrainVideo/golf0213_driving\\\\DFNoFinish\\\\p1/04.avi',\n",
       " 'C:/Users/LuisR/Desktop/visapient/Video/TrainVideo/golf0213_driving\\\\DFNoFinish\\\\p1/05.avi',\n",
       " 'C:/Users/LuisR/Desktop/visapient/Video/TrainVideo/golf0213_driving\\\\DFNoFinish\\\\p2/00.avi',\n",
       " 'C:/Users/LuisR/Desktop/visapient/Video/TrainVideo/golf0213_driving\\\\DFNoFinish\\\\p2/01.avi',\n",
       " 'C:/Users/LuisR/Desktop/visapient/Video/TrainVideo/golf0213_driving\\\\DFNoFinish\\\\p2/02.avi',\n",
       " 'C:/Users/LuisR/Desktop/visapient/Video/TrainVideo/golf0213_driving\\\\DFNoFinish\\\\p2/03.avi',\n",
       " 'C:/Users/LuisR/Desktop/visapient/Video/TrainVideo/golf0213_driving\\\\DFNoFinish\\\\p2/04.avi',\n",
       " 'C:/Users/LuisR/Desktop/visapient/Video/TrainVideo/golf0213_driving\\\\DFNoFinish\\\\p2/05.avi',\n",
       " 'C:/Users/LuisR/Desktop/visapient/Video/TrainVideo/golf0213_driving\\\\DFNoFinish\\\\p3/00.avi',\n",
       " 'C:/Users/LuisR/Desktop/visapient/Video/TrainVideo/golf0213_driving\\\\DFNoFinish\\\\p3/01.avi',\n",
       " 'C:/Users/LuisR/Desktop/visapient/Video/TrainVideo/golf0213_driving\\\\DFNoFinish\\\\p3/02.avi',\n",
       " 'C:/Users/LuisR/Desktop/visapient/Video/TrainVideo/golf0213_driving\\\\DFNoFinish\\\\p3/03.avi',\n",
       " 'C:/Users/LuisR/Desktop/visapient/Video/TrainVideo/golf0213_driving\\\\DFNoFinish\\\\p3/04.avi',\n",
       " 'C:/Users/LuisR/Desktop/visapient/Video/TrainVideo/golf0213_driving\\\\DFNoFinish\\\\p3/05.avi',\n",
       " 'C:/Users/LuisR/Desktop/visapient/Video/TrainVideo/golf0213_driving\\\\DFNoFinish\\\\p4/00.avi',\n",
       " 'C:/Users/LuisR/Desktop/visapient/Video/TrainVideo/golf0213_driving\\\\DFNoFinish\\\\p4/01.avi',\n",
       " 'C:/Users/LuisR/Desktop/visapient/Video/TrainVideo/golf0213_driving\\\\DFNoFinish\\\\p4/02.avi',\n",
       " 'C:/Users/LuisR/Desktop/visapient/Video/TrainVideo/golf0213_driving\\\\DFNoFinish\\\\p4/03.avi',\n",
       " 'C:/Users/LuisR/Desktop/visapient/Video/TrainVideo/golf0213_driving\\\\DFNoFinish\\\\p4/04.avi',\n",
       " 'C:/Users/LuisR/Desktop/visapient/Video/TrainVideo/golf0213_driving\\\\DFNoFinish\\\\p4/05.avi',\n",
       " 'C:/Users/LuisR/Desktop/visapient/Video/TrainVideo/golf0213_driving\\\\DFNoFinish\\\\p5/00.avi',\n",
       " 'C:/Users/LuisR/Desktop/visapient/Video/TrainVideo/golf0213_driving\\\\DFNoFinish\\\\p5/01.avi',\n",
       " 'C:/Users/LuisR/Desktop/visapient/Video/TrainVideo/golf0213_driving\\\\DFNoFinish\\\\p5/02.avi',\n",
       " 'C:/Users/LuisR/Desktop/visapient/Video/TrainVideo/golf0213_driving\\\\DFNoFinish\\\\p5/03.avi',\n",
       " 'C:/Users/LuisR/Desktop/visapient/Video/TrainVideo/golf0213_driving\\\\DFNoFinish\\\\p5/04.avi',\n",
       " 'C:/Users/LuisR/Desktop/visapient/Video/TrainVideo/golf0213_driving\\\\DFNoFinish\\\\p5/05.avi',\n",
       " 'C:/Users/LuisR/Desktop/visapient/Video/TrainVideo/golf0213_driving\\\\DFNoFinish\\\\p6/00.avi',\n",
       " 'C:/Users/LuisR/Desktop/visapient/Video/TrainVideo/golf0213_driving\\\\DFNoFinish\\\\p6/01.avi',\n",
       " 'C:/Users/LuisR/Desktop/visapient/Video/TrainVideo/golf0213_driving\\\\DFNoFinish\\\\p6/02.avi',\n",
       " 'C:/Users/LuisR/Desktop/visapient/Video/TrainVideo/golf0213_driving\\\\DFNoFinish\\\\p6/03.avi',\n",
       " 'C:/Users/LuisR/Desktop/visapient/Video/TrainVideo/golf0213_driving\\\\DFNoFinish\\\\p6/04.avi',\n",
       " 'C:/Users/LuisR/Desktop/visapient/Video/TrainVideo/golf0213_driving\\\\DFNoFinish\\\\p6/05.avi',\n",
       " 'C:/Users/LuisR/Desktop/visapient/Video/TrainVideo/golf0213_driving\\\\DFNoFinish\\\\p7/00.avi',\n",
       " 'C:/Users/LuisR/Desktop/visapient/Video/TrainVideo/golf0213_driving\\\\DFNoFinish\\\\p7/01.avi',\n",
       " 'C:/Users/LuisR/Desktop/visapient/Video/TrainVideo/golf0213_driving\\\\DFNoFinish\\\\p7/02.avi',\n",
       " 'C:/Users/LuisR/Desktop/visapient/Video/TrainVideo/golf0213_driving\\\\DFNoFinish\\\\p7/03.avi',\n",
       " 'C:/Users/LuisR/Desktop/visapient/Video/TrainVideo/golf0213_driving\\\\DFNoFinish\\\\p7/04.avi',\n",
       " 'C:/Users/LuisR/Desktop/visapient/Video/TrainVideo/golf0213_driving\\\\DFNoFinish\\\\p7/05.avi',\n",
       " 'C:/Users/LuisR/Desktop/visapient/Video/TrainVideo/golf0213_driving\\\\DFNoFinish\\\\p8/00.avi',\n",
       " 'C:/Users/LuisR/Desktop/visapient/Video/TrainVideo/golf0213_driving\\\\DFNoFinish\\\\p8/01.avi',\n",
       " 'C:/Users/LuisR/Desktop/visapient/Video/TrainVideo/golf0213_driving\\\\DFNoFinish\\\\p8/02.avi',\n",
       " 'C:/Users/LuisR/Desktop/visapient/Video/TrainVideo/golf0213_driving\\\\DFNoFinish\\\\p8/03.avi',\n",
       " 'C:/Users/LuisR/Desktop/visapient/Video/TrainVideo/golf0213_driving\\\\DFNoFinish\\\\p8/04.avi',\n",
       " 'C:/Users/LuisR/Desktop/visapient/Video/TrainVideo/golf0213_driving\\\\DFNoFinish\\\\p8/05.avi',\n",
       " 'C:/Users/LuisR/Desktop/visapient/Video/TrainVideo/golf0213_driving\\\\DFRight\\\\p1/00.avi',\n",
       " 'C:/Users/LuisR/Desktop/visapient/Video/TrainVideo/golf0213_driving\\\\DFRight\\\\p1/01.avi',\n",
       " 'C:/Users/LuisR/Desktop/visapient/Video/TrainVideo/golf0213_driving\\\\DFRight\\\\p1/02.avi',\n",
       " 'C:/Users/LuisR/Desktop/visapient/Video/TrainVideo/golf0213_driving\\\\DFRight\\\\p1/03.avi',\n",
       " 'C:/Users/LuisR/Desktop/visapient/Video/TrainVideo/golf0213_driving\\\\DFRight\\\\p1/04.avi',\n",
       " 'C:/Users/LuisR/Desktop/visapient/Video/TrainVideo/golf0213_driving\\\\DFRight\\\\p1/05.avi',\n",
       " 'C:/Users/LuisR/Desktop/visapient/Video/TrainVideo/golf0213_driving\\\\DFRight\\\\p2/00.avi',\n",
       " 'C:/Users/LuisR/Desktop/visapient/Video/TrainVideo/golf0213_driving\\\\DFRight\\\\p2/01.avi',\n",
       " 'C:/Users/LuisR/Desktop/visapient/Video/TrainVideo/golf0213_driving\\\\DFRight\\\\p2/02.avi',\n",
       " 'C:/Users/LuisR/Desktop/visapient/Video/TrainVideo/golf0213_driving\\\\DFRight\\\\p2/03.avi',\n",
       " 'C:/Users/LuisR/Desktop/visapient/Video/TrainVideo/golf0213_driving\\\\DFRight\\\\p2/04.avi',\n",
       " 'C:/Users/LuisR/Desktop/visapient/Video/TrainVideo/golf0213_driving\\\\DFRight\\\\p2/05.avi',\n",
       " 'C:/Users/LuisR/Desktop/visapient/Video/TrainVideo/golf0213_driving\\\\DFRight\\\\p3/00.avi',\n",
       " 'C:/Users/LuisR/Desktop/visapient/Video/TrainVideo/golf0213_driving\\\\DFRight\\\\p3/01.avi',\n",
       " 'C:/Users/LuisR/Desktop/visapient/Video/TrainVideo/golf0213_driving\\\\DFRight\\\\p3/02.avi',\n",
       " 'C:/Users/LuisR/Desktop/visapient/Video/TrainVideo/golf0213_driving\\\\DFRight\\\\p3/03.avi',\n",
       " 'C:/Users/LuisR/Desktop/visapient/Video/TrainVideo/golf0213_driving\\\\DFRight\\\\p3/04.avi',\n",
       " 'C:/Users/LuisR/Desktop/visapient/Video/TrainVideo/golf0213_driving\\\\DFRight\\\\p3/05.avi',\n",
       " 'C:/Users/LuisR/Desktop/visapient/Video/TrainVideo/golf0213_driving\\\\DFRight\\\\p4/00.avi',\n",
       " 'C:/Users/LuisR/Desktop/visapient/Video/TrainVideo/golf0213_driving\\\\DFRight\\\\p4/01.avi',\n",
       " 'C:/Users/LuisR/Desktop/visapient/Video/TrainVideo/golf0213_driving\\\\DFRight\\\\p4/02.avi',\n",
       " 'C:/Users/LuisR/Desktop/visapient/Video/TrainVideo/golf0213_driving\\\\DFRight\\\\p4/03.avi',\n",
       " 'C:/Users/LuisR/Desktop/visapient/Video/TrainVideo/golf0213_driving\\\\DFRight\\\\p4/04.avi',\n",
       " 'C:/Users/LuisR/Desktop/visapient/Video/TrainVideo/golf0213_driving\\\\DFRight\\\\p4/05.avi',\n",
       " 'C:/Users/LuisR/Desktop/visapient/Video/TrainVideo/golf0213_driving\\\\DFRight\\\\p5/00.avi',\n",
       " 'C:/Users/LuisR/Desktop/visapient/Video/TrainVideo/golf0213_driving\\\\DFRight\\\\p5/01.avi',\n",
       " 'C:/Users/LuisR/Desktop/visapient/Video/TrainVideo/golf0213_driving\\\\DFRight\\\\p5/02.avi',\n",
       " 'C:/Users/LuisR/Desktop/visapient/Video/TrainVideo/golf0213_driving\\\\DFRight\\\\p5/03.avi',\n",
       " 'C:/Users/LuisR/Desktop/visapient/Video/TrainVideo/golf0213_driving\\\\DFRight\\\\p5/04.avi',\n",
       " 'C:/Users/LuisR/Desktop/visapient/Video/TrainVideo/golf0213_driving\\\\DFRight\\\\p5/05.avi',\n",
       " 'C:/Users/LuisR/Desktop/visapient/Video/TrainVideo/golf0213_driving\\\\DFRight\\\\p6/00.avi',\n",
       " 'C:/Users/LuisR/Desktop/visapient/Video/TrainVideo/golf0213_driving\\\\DFRight\\\\p6/01.avi',\n",
       " 'C:/Users/LuisR/Desktop/visapient/Video/TrainVideo/golf0213_driving\\\\DFRight\\\\p6/02.avi',\n",
       " 'C:/Users/LuisR/Desktop/visapient/Video/TrainVideo/golf0213_driving\\\\DFRight\\\\p6/03.avi',\n",
       " 'C:/Users/LuisR/Desktop/visapient/Video/TrainVideo/golf0213_driving\\\\DFRight\\\\p6/04.avi',\n",
       " 'C:/Users/LuisR/Desktop/visapient/Video/TrainVideo/golf0213_driving\\\\DFRight\\\\p6/05.avi',\n",
       " 'C:/Users/LuisR/Desktop/visapient/Video/TrainVideo/golf0213_driving\\\\DFRight\\\\p7/00.avi',\n",
       " 'C:/Users/LuisR/Desktop/visapient/Video/TrainVideo/golf0213_driving\\\\DFRight\\\\p7/01.avi',\n",
       " 'C:/Users/LuisR/Desktop/visapient/Video/TrainVideo/golf0213_driving\\\\DFRight\\\\p7/02.avi',\n",
       " 'C:/Users/LuisR/Desktop/visapient/Video/TrainVideo/golf0213_driving\\\\DFRight\\\\p7/03.avi',\n",
       " 'C:/Users/LuisR/Desktop/visapient/Video/TrainVideo/golf0213_driving\\\\DFRight\\\\p7/04.avi',\n",
       " 'C:/Users/LuisR/Desktop/visapient/Video/TrainVideo/golf0213_driving\\\\DFRight\\\\p7/05.avi',\n",
       " 'C:/Users/LuisR/Desktop/visapient/Video/TrainVideo/golf0213_driving\\\\DFRight\\\\p8/00.avi',\n",
       " 'C:/Users/LuisR/Desktop/visapient/Video/TrainVideo/golf0213_driving\\\\DFRight\\\\p8/01.avi',\n",
       " 'C:/Users/LuisR/Desktop/visapient/Video/TrainVideo/golf0213_driving\\\\DFRight\\\\p8/02.avi',\n",
       " 'C:/Users/LuisR/Desktop/visapient/Video/TrainVideo/golf0213_driving\\\\DFRight\\\\p8/03.avi',\n",
       " 'C:/Users/LuisR/Desktop/visapient/Video/TrainVideo/golf0213_driving\\\\DFRight\\\\p8/04.avi',\n",
       " 'C:/Users/LuisR/Desktop/visapient/Video/TrainVideo/golf0213_driving\\\\DFRight\\\\p8/05.avi',\n",
       " 'C:/Users/LuisR/Desktop/visapient/Video/TrainVideo/golf0213_driving\\\\DFTooLow\\\\p1/00.avi',\n",
       " 'C:/Users/LuisR/Desktop/visapient/Video/TrainVideo/golf0213_driving\\\\DFTooLow\\\\p1/01.avi',\n",
       " 'C:/Users/LuisR/Desktop/visapient/Video/TrainVideo/golf0213_driving\\\\DFTooLow\\\\p1/02.avi',\n",
       " 'C:/Users/LuisR/Desktop/visapient/Video/TrainVideo/golf0213_driving\\\\DFTooLow\\\\p1/03.avi',\n",
       " 'C:/Users/LuisR/Desktop/visapient/Video/TrainVideo/golf0213_driving\\\\DFTooLow\\\\p1/04.avi',\n",
       " 'C:/Users/LuisR/Desktop/visapient/Video/TrainVideo/golf0213_driving\\\\DFTooLow\\\\p1/05.avi',\n",
       " 'C:/Users/LuisR/Desktop/visapient/Video/TrainVideo/golf0213_driving\\\\DFTooLow\\\\p2/00.avi',\n",
       " 'C:/Users/LuisR/Desktop/visapient/Video/TrainVideo/golf0213_driving\\\\DFTooLow\\\\p2/01.avi',\n",
       " 'C:/Users/LuisR/Desktop/visapient/Video/TrainVideo/golf0213_driving\\\\DFTooLow\\\\p2/02.avi',\n",
       " 'C:/Users/LuisR/Desktop/visapient/Video/TrainVideo/golf0213_driving\\\\DFTooLow\\\\p2/03.avi',\n",
       " 'C:/Users/LuisR/Desktop/visapient/Video/TrainVideo/golf0213_driving\\\\DFTooLow\\\\p2/04.avi',\n",
       " 'C:/Users/LuisR/Desktop/visapient/Video/TrainVideo/golf0213_driving\\\\DFTooLow\\\\p2/05.avi',\n",
       " 'C:/Users/LuisR/Desktop/visapient/Video/TrainVideo/golf0213_driving\\\\DFTooLow\\\\p3/00.avi',\n",
       " 'C:/Users/LuisR/Desktop/visapient/Video/TrainVideo/golf0213_driving\\\\DFTooLow\\\\p3/01.avi',\n",
       " 'C:/Users/LuisR/Desktop/visapient/Video/TrainVideo/golf0213_driving\\\\DFTooLow\\\\p3/02.avi',\n",
       " 'C:/Users/LuisR/Desktop/visapient/Video/TrainVideo/golf0213_driving\\\\DFTooLow\\\\p3/03.avi',\n",
       " 'C:/Users/LuisR/Desktop/visapient/Video/TrainVideo/golf0213_driving\\\\DFTooLow\\\\p3/04.avi',\n",
       " 'C:/Users/LuisR/Desktop/visapient/Video/TrainVideo/golf0213_driving\\\\DFTooLow\\\\p3/05.avi',\n",
       " 'C:/Users/LuisR/Desktop/visapient/Video/TrainVideo/golf0213_driving\\\\DFTooLow\\\\p4/00.avi',\n",
       " 'C:/Users/LuisR/Desktop/visapient/Video/TrainVideo/golf0213_driving\\\\DFTooLow\\\\p4/01.avi',\n",
       " 'C:/Users/LuisR/Desktop/visapient/Video/TrainVideo/golf0213_driving\\\\DFTooLow\\\\p4/02.avi',\n",
       " 'C:/Users/LuisR/Desktop/visapient/Video/TrainVideo/golf0213_driving\\\\DFTooLow\\\\p4/03.avi',\n",
       " 'C:/Users/LuisR/Desktop/visapient/Video/TrainVideo/golf0213_driving\\\\DFTooLow\\\\p4/04.avi',\n",
       " 'C:/Users/LuisR/Desktop/visapient/Video/TrainVideo/golf0213_driving\\\\DFTooLow\\\\p4/05.avi',\n",
       " 'C:/Users/LuisR/Desktop/visapient/Video/TrainVideo/golf0213_driving\\\\DFTooLow\\\\p5/00.avi',\n",
       " 'C:/Users/LuisR/Desktop/visapient/Video/TrainVideo/golf0213_driving\\\\DFTooLow\\\\p5/01.avi',\n",
       " 'C:/Users/LuisR/Desktop/visapient/Video/TrainVideo/golf0213_driving\\\\DFTooLow\\\\p5/02.avi',\n",
       " 'C:/Users/LuisR/Desktop/visapient/Video/TrainVideo/golf0213_driving\\\\DFTooLow\\\\p5/03.avi',\n",
       " 'C:/Users/LuisR/Desktop/visapient/Video/TrainVideo/golf0213_driving\\\\DFTooLow\\\\p5/04.avi',\n",
       " 'C:/Users/LuisR/Desktop/visapient/Video/TrainVideo/golf0213_driving\\\\DFTooLow\\\\p5/05.avi',\n",
       " 'C:/Users/LuisR/Desktop/visapient/Video/TrainVideo/golf0213_driving\\\\DFTooLow\\\\p6/00.avi',\n",
       " 'C:/Users/LuisR/Desktop/visapient/Video/TrainVideo/golf0213_driving\\\\DFTooLow\\\\p6/01.avi',\n",
       " 'C:/Users/LuisR/Desktop/visapient/Video/TrainVideo/golf0213_driving\\\\DFTooLow\\\\p6/02.avi',\n",
       " 'C:/Users/LuisR/Desktop/visapient/Video/TrainVideo/golf0213_driving\\\\DFTooLow\\\\p6/03.avi',\n",
       " 'C:/Users/LuisR/Desktop/visapient/Video/TrainVideo/golf0213_driving\\\\DFTooLow\\\\p6/04.avi',\n",
       " 'C:/Users/LuisR/Desktop/visapient/Video/TrainVideo/golf0213_driving\\\\DFTooLow\\\\p6/05.avi',\n",
       " 'C:/Users/LuisR/Desktop/visapient/Video/TrainVideo/golf0213_driving\\\\DFTooLow\\\\p7/00.avi',\n",
       " 'C:/Users/LuisR/Desktop/visapient/Video/TrainVideo/golf0213_driving\\\\DFTooLow\\\\p7/01.avi',\n",
       " 'C:/Users/LuisR/Desktop/visapient/Video/TrainVideo/golf0213_driving\\\\DFTooLow\\\\p7/02.avi',\n",
       " 'C:/Users/LuisR/Desktop/visapient/Video/TrainVideo/golf0213_driving\\\\DFTooLow\\\\p7/03.avi',\n",
       " 'C:/Users/LuisR/Desktop/visapient/Video/TrainVideo/golf0213_driving\\\\DFTooLow\\\\p7/04.avi',\n",
       " 'C:/Users/LuisR/Desktop/visapient/Video/TrainVideo/golf0213_driving\\\\DFTooLow\\\\p7/05.avi',\n",
       " 'C:/Users/LuisR/Desktop/visapient/Video/TrainVideo/golf0213_driving\\\\DFTooLow\\\\p8/00.avi',\n",
       " 'C:/Users/LuisR/Desktop/visapient/Video/TrainVideo/golf0213_driving\\\\DFTooLow\\\\p8/01.avi',\n",
       " 'C:/Users/LuisR/Desktop/visapient/Video/TrainVideo/golf0213_driving\\\\DFTooLow\\\\p8/02.avi',\n",
       " 'C:/Users/LuisR/Desktop/visapient/Video/TrainVideo/golf0213_driving\\\\DFTooLow\\\\p8/03.avi',\n",
       " 'C:/Users/LuisR/Desktop/visapient/Video/TrainVideo/golf0213_driving\\\\DFTooLow\\\\p8/04.avi',\n",
       " 'C:/Users/LuisR/Desktop/visapient/Video/TrainVideo/golf0213_driving\\\\DFTooLow\\\\p8/05.avi',\n",
       " 'C:/Users/LuisR/Desktop/visapient/Video/TrainVideo/golf0213_driving\\\\DSRight\\\\p1/00.avi',\n",
       " 'C:/Users/LuisR/Desktop/visapient/Video/TrainVideo/golf0213_driving\\\\DSRight\\\\p1/01.avi',\n",
       " 'C:/Users/LuisR/Desktop/visapient/Video/TrainVideo/golf0213_driving\\\\DSRight\\\\p1/02.avi',\n",
       " 'C:/Users/LuisR/Desktop/visapient/Video/TrainVideo/golf0213_driving\\\\DSRight\\\\p1/03.avi',\n",
       " 'C:/Users/LuisR/Desktop/visapient/Video/TrainVideo/golf0213_driving\\\\DSRight\\\\p1/04.avi',\n",
       " 'C:/Users/LuisR/Desktop/visapient/Video/TrainVideo/golf0213_driving\\\\DSRight\\\\p1/05.avi',\n",
       " 'C:/Users/LuisR/Desktop/visapient/Video/TrainVideo/golf0213_driving\\\\DSRight\\\\p2/00.avi',\n",
       " 'C:/Users/LuisR/Desktop/visapient/Video/TrainVideo/golf0213_driving\\\\DSRight\\\\p2/01.avi',\n",
       " 'C:/Users/LuisR/Desktop/visapient/Video/TrainVideo/golf0213_driving\\\\DSRight\\\\p2/02.avi',\n",
       " 'C:/Users/LuisR/Desktop/visapient/Video/TrainVideo/golf0213_driving\\\\DSRight\\\\p2/03.avi',\n",
       " 'C:/Users/LuisR/Desktop/visapient/Video/TrainVideo/golf0213_driving\\\\DSRight\\\\p2/04.avi',\n",
       " 'C:/Users/LuisR/Desktop/visapient/Video/TrainVideo/golf0213_driving\\\\DSRight\\\\p2/05.avi',\n",
       " 'C:/Users/LuisR/Desktop/visapient/Video/TrainVideo/golf0213_driving\\\\DSRight\\\\p3/00.avi',\n",
       " 'C:/Users/LuisR/Desktop/visapient/Video/TrainVideo/golf0213_driving\\\\DSRight\\\\p3/01.avi',\n",
       " 'C:/Users/LuisR/Desktop/visapient/Video/TrainVideo/golf0213_driving\\\\DSRight\\\\p3/02.avi',\n",
       " 'C:/Users/LuisR/Desktop/visapient/Video/TrainVideo/golf0213_driving\\\\DSRight\\\\p3/03.avi',\n",
       " 'C:/Users/LuisR/Desktop/visapient/Video/TrainVideo/golf0213_driving\\\\DSRight\\\\p3/04.avi',\n",
       " 'C:/Users/LuisR/Desktop/visapient/Video/TrainVideo/golf0213_driving\\\\DSRight\\\\p3/05.avi',\n",
       " 'C:/Users/LuisR/Desktop/visapient/Video/TrainVideo/golf0213_driving\\\\DSRight\\\\p4/00.avi',\n",
       " 'C:/Users/LuisR/Desktop/visapient/Video/TrainVideo/golf0213_driving\\\\DSRight\\\\p4/01.avi',\n",
       " 'C:/Users/LuisR/Desktop/visapient/Video/TrainVideo/golf0213_driving\\\\DSRight\\\\p4/02.avi',\n",
       " 'C:/Users/LuisR/Desktop/visapient/Video/TrainVideo/golf0213_driving\\\\DSRight\\\\p4/03.avi',\n",
       " 'C:/Users/LuisR/Desktop/visapient/Video/TrainVideo/golf0213_driving\\\\DSRight\\\\p4/04.avi',\n",
       " 'C:/Users/LuisR/Desktop/visapient/Video/TrainVideo/golf0213_driving\\\\DSRight\\\\p4/05.avi',\n",
       " 'C:/Users/LuisR/Desktop/visapient/Video/TrainVideo/golf0213_driving\\\\DSRight\\\\p5/00.avi',\n",
       " 'C:/Users/LuisR/Desktop/visapient/Video/TrainVideo/golf0213_driving\\\\DSRight\\\\p5/01.avi',\n",
       " 'C:/Users/LuisR/Desktop/visapient/Video/TrainVideo/golf0213_driving\\\\DSRight\\\\p5/02.avi',\n",
       " 'C:/Users/LuisR/Desktop/visapient/Video/TrainVideo/golf0213_driving\\\\DSRight\\\\p5/03.avi',\n",
       " 'C:/Users/LuisR/Desktop/visapient/Video/TrainVideo/golf0213_driving\\\\DSRight\\\\p5/04.avi',\n",
       " 'C:/Users/LuisR/Desktop/visapient/Video/TrainVideo/golf0213_driving\\\\DSRight\\\\p5/05.avi',\n",
       " 'C:/Users/LuisR/Desktop/visapient/Video/TrainVideo/golf0213_driving\\\\DSRight\\\\p6/00.avi',\n",
       " 'C:/Users/LuisR/Desktop/visapient/Video/TrainVideo/golf0213_driving\\\\DSRight\\\\p6/01.avi',\n",
       " 'C:/Users/LuisR/Desktop/visapient/Video/TrainVideo/golf0213_driving\\\\DSRight\\\\p6/02.avi',\n",
       " 'C:/Users/LuisR/Desktop/visapient/Video/TrainVideo/golf0213_driving\\\\DSRight\\\\p6/03.avi',\n",
       " 'C:/Users/LuisR/Desktop/visapient/Video/TrainVideo/golf0213_driving\\\\DSRight\\\\p6/04.avi',\n",
       " 'C:/Users/LuisR/Desktop/visapient/Video/TrainVideo/golf0213_driving\\\\DSRight\\\\p6/05.avi',\n",
       " 'C:/Users/LuisR/Desktop/visapient/Video/TrainVideo/golf0213_driving\\\\DSRight\\\\p7/00.avi',\n",
       " 'C:/Users/LuisR/Desktop/visapient/Video/TrainVideo/golf0213_driving\\\\DSRight\\\\p7/01.avi',\n",
       " 'C:/Users/LuisR/Desktop/visapient/Video/TrainVideo/golf0213_driving\\\\DSRight\\\\p7/02.avi',\n",
       " 'C:/Users/LuisR/Desktop/visapient/Video/TrainVideo/golf0213_driving\\\\DSRight\\\\p7/03.avi',\n",
       " 'C:/Users/LuisR/Desktop/visapient/Video/TrainVideo/golf0213_driving\\\\DSRight\\\\p7/04.avi',\n",
       " 'C:/Users/LuisR/Desktop/visapient/Video/TrainVideo/golf0213_driving\\\\DSRight\\\\p7/05.avi',\n",
       " 'C:/Users/LuisR/Desktop/visapient/Video/TrainVideo/golf0213_driving\\\\DSRight\\\\p8/00.avi',\n",
       " 'C:/Users/LuisR/Desktop/visapient/Video/TrainVideo/golf0213_driving\\\\DSRight\\\\p8/01.avi',\n",
       " 'C:/Users/LuisR/Desktop/visapient/Video/TrainVideo/golf0213_driving\\\\DSRight\\\\p8/02.avi',\n",
       " 'C:/Users/LuisR/Desktop/visapient/Video/TrainVideo/golf0213_driving\\\\DSRight\\\\p8/03.avi',\n",
       " 'C:/Users/LuisR/Desktop/visapient/Video/TrainVideo/golf0213_driving\\\\DSRight\\\\p8/04.avi',\n",
       " 'C:/Users/LuisR/Desktop/visapient/Video/TrainVideo/golf0213_driving\\\\DSRight\\\\p8/05.avi',\n",
       " 'C:/Users/LuisR/Desktop/visapient/Video/TrainVideo/golf0213_driving\\\\DSWrongArm\\\\p1/00.avi',\n",
       " 'C:/Users/LuisR/Desktop/visapient/Video/TrainVideo/golf0213_driving\\\\DSWrongArm\\\\p1/01.avi',\n",
       " 'C:/Users/LuisR/Desktop/visapient/Video/TrainVideo/golf0213_driving\\\\DSWrongArm\\\\p1/02.avi',\n",
       " 'C:/Users/LuisR/Desktop/visapient/Video/TrainVideo/golf0213_driving\\\\DSWrongArm\\\\p1/03.avi',\n",
       " 'C:/Users/LuisR/Desktop/visapient/Video/TrainVideo/golf0213_driving\\\\DSWrongArm\\\\p1/04.avi',\n",
       " 'C:/Users/LuisR/Desktop/visapient/Video/TrainVideo/golf0213_driving\\\\DSWrongArm\\\\p1/05.avi',\n",
       " 'C:/Users/LuisR/Desktop/visapient/Video/TrainVideo/golf0213_driving\\\\DSWrongArm\\\\p2/00.avi',\n",
       " 'C:/Users/LuisR/Desktop/visapient/Video/TrainVideo/golf0213_driving\\\\DSWrongArm\\\\p2/01.avi',\n",
       " 'C:/Users/LuisR/Desktop/visapient/Video/TrainVideo/golf0213_driving\\\\DSWrongArm\\\\p2/02.avi',\n",
       " 'C:/Users/LuisR/Desktop/visapient/Video/TrainVideo/golf0213_driving\\\\DSWrongArm\\\\p2/03.avi',\n",
       " 'C:/Users/LuisR/Desktop/visapient/Video/TrainVideo/golf0213_driving\\\\DSWrongArm\\\\p2/04.avi',\n",
       " 'C:/Users/LuisR/Desktop/visapient/Video/TrainVideo/golf0213_driving\\\\DSWrongArm\\\\p2/05.avi',\n",
       " 'C:/Users/LuisR/Desktop/visapient/Video/TrainVideo/golf0213_driving\\\\DSWrongArm\\\\p3/00.avi',\n",
       " 'C:/Users/LuisR/Desktop/visapient/Video/TrainVideo/golf0213_driving\\\\DSWrongArm\\\\p3/01.avi',\n",
       " 'C:/Users/LuisR/Desktop/visapient/Video/TrainVideo/golf0213_driving\\\\DSWrongArm\\\\p3/02.avi',\n",
       " 'C:/Users/LuisR/Desktop/visapient/Video/TrainVideo/golf0213_driving\\\\DSWrongArm\\\\p3/03.avi',\n",
       " 'C:/Users/LuisR/Desktop/visapient/Video/TrainVideo/golf0213_driving\\\\DSWrongArm\\\\p3/04.avi',\n",
       " 'C:/Users/LuisR/Desktop/visapient/Video/TrainVideo/golf0213_driving\\\\DSWrongArm\\\\p3/05.avi',\n",
       " 'C:/Users/LuisR/Desktop/visapient/Video/TrainVideo/golf0213_driving\\\\DSWrongArm\\\\p4/00.avi',\n",
       " 'C:/Users/LuisR/Desktop/visapient/Video/TrainVideo/golf0213_driving\\\\DSWrongArm\\\\p4/01.avi',\n",
       " 'C:/Users/LuisR/Desktop/visapient/Video/TrainVideo/golf0213_driving\\\\DSWrongArm\\\\p4/02.avi',\n",
       " 'C:/Users/LuisR/Desktop/visapient/Video/TrainVideo/golf0213_driving\\\\DSWrongArm\\\\p4/03.avi',\n",
       " 'C:/Users/LuisR/Desktop/visapient/Video/TrainVideo/golf0213_driving\\\\DSWrongArm\\\\p4/04.avi',\n",
       " 'C:/Users/LuisR/Desktop/visapient/Video/TrainVideo/golf0213_driving\\\\DSWrongArm\\\\p4/05.avi',\n",
       " 'C:/Users/LuisR/Desktop/visapient/Video/TrainVideo/golf0213_driving\\\\DSWrongArm\\\\p5/00.avi',\n",
       " 'C:/Users/LuisR/Desktop/visapient/Video/TrainVideo/golf0213_driving\\\\DSWrongArm\\\\p5/01.avi',\n",
       " 'C:/Users/LuisR/Desktop/visapient/Video/TrainVideo/golf0213_driving\\\\DSWrongArm\\\\p5/02.avi',\n",
       " 'C:/Users/LuisR/Desktop/visapient/Video/TrainVideo/golf0213_driving\\\\DSWrongArm\\\\p5/03.avi',\n",
       " 'C:/Users/LuisR/Desktop/visapient/Video/TrainVideo/golf0213_driving\\\\DSWrongArm\\\\p5/04.avi',\n",
       " 'C:/Users/LuisR/Desktop/visapient/Video/TrainVideo/golf0213_driving\\\\DSWrongArm\\\\p5/05.avi',\n",
       " 'C:/Users/LuisR/Desktop/visapient/Video/TrainVideo/golf0213_driving\\\\DSWrongArm\\\\p6/00.avi',\n",
       " 'C:/Users/LuisR/Desktop/visapient/Video/TrainVideo/golf0213_driving\\\\DSWrongArm\\\\p6/01.avi',\n",
       " 'C:/Users/LuisR/Desktop/visapient/Video/TrainVideo/golf0213_driving\\\\DSWrongArm\\\\p6/02.avi',\n",
       " 'C:/Users/LuisR/Desktop/visapient/Video/TrainVideo/golf0213_driving\\\\DSWrongArm\\\\p6/03.avi',\n",
       " 'C:/Users/LuisR/Desktop/visapient/Video/TrainVideo/golf0213_driving\\\\DSWrongArm\\\\p6/04.avi',\n",
       " 'C:/Users/LuisR/Desktop/visapient/Video/TrainVideo/golf0213_driving\\\\DSWrongArm\\\\p6/05.avi',\n",
       " 'C:/Users/LuisR/Desktop/visapient/Video/TrainVideo/golf0213_driving\\\\DSWrongArm\\\\p7/00.avi',\n",
       " 'C:/Users/LuisR/Desktop/visapient/Video/TrainVideo/golf0213_driving\\\\DSWrongArm\\\\p7/01.avi',\n",
       " 'C:/Users/LuisR/Desktop/visapient/Video/TrainVideo/golf0213_driving\\\\DSWrongArm\\\\p7/02.avi',\n",
       " 'C:/Users/LuisR/Desktop/visapient/Video/TrainVideo/golf0213_driving\\\\DSWrongArm\\\\p7/03.avi',\n",
       " 'C:/Users/LuisR/Desktop/visapient/Video/TrainVideo/golf0213_driving\\\\DSWrongArm\\\\p7/04.avi',\n",
       " 'C:/Users/LuisR/Desktop/visapient/Video/TrainVideo/golf0213_driving\\\\DSWrongArm\\\\p7/05.avi',\n",
       " 'C:/Users/LuisR/Desktop/visapient/Video/TrainVideo/golf0213_driving\\\\DSWrongArm\\\\p8/00.avi',\n",
       " 'C:/Users/LuisR/Desktop/visapient/Video/TrainVideo/golf0213_driving\\\\DSWrongArm\\\\p8/01.avi',\n",
       " 'C:/Users/LuisR/Desktop/visapient/Video/TrainVideo/golf0213_driving\\\\DSWrongArm\\\\p8/02.avi',\n",
       " 'C:/Users/LuisR/Desktop/visapient/Video/TrainVideo/golf0213_driving\\\\DSWrongArm\\\\p8/03.avi',\n",
       " 'C:/Users/LuisR/Desktop/visapient/Video/TrainVideo/golf0213_driving\\\\DSWrongArm\\\\p8/04.avi',\n",
       " 'C:/Users/LuisR/Desktop/visapient/Video/TrainVideo/golf0213_driving\\\\DSWrongArm\\\\p8/05.avi',\n",
       " 'C:/Users/LuisR/Desktop/visapient/Video/TrainVideo/golf0213_driving\\\\DSWrongHand\\\\p1/00.avi',\n",
       " 'C:/Users/LuisR/Desktop/visapient/Video/TrainVideo/golf0213_driving\\\\DSWrongHand\\\\p1/01.avi',\n",
       " 'C:/Users/LuisR/Desktop/visapient/Video/TrainVideo/golf0213_driving\\\\DSWrongHand\\\\p1/02.avi',\n",
       " 'C:/Users/LuisR/Desktop/visapient/Video/TrainVideo/golf0213_driving\\\\DSWrongHand\\\\p1/03.avi',\n",
       " 'C:/Users/LuisR/Desktop/visapient/Video/TrainVideo/golf0213_driving\\\\DSWrongHand\\\\p1/04.avi',\n",
       " 'C:/Users/LuisR/Desktop/visapient/Video/TrainVideo/golf0213_driving\\\\DSWrongHand\\\\p1/05.avi',\n",
       " 'C:/Users/LuisR/Desktop/visapient/Video/TrainVideo/golf0213_driving\\\\DSWrongHand\\\\p2/00.avi',\n",
       " 'C:/Users/LuisR/Desktop/visapient/Video/TrainVideo/golf0213_driving\\\\DSWrongHand\\\\p2/01.avi',\n",
       " 'C:/Users/LuisR/Desktop/visapient/Video/TrainVideo/golf0213_driving\\\\DSWrongHand\\\\p2/02.avi',\n",
       " 'C:/Users/LuisR/Desktop/visapient/Video/TrainVideo/golf0213_driving\\\\DSWrongHand\\\\p2/03.avi',\n",
       " 'C:/Users/LuisR/Desktop/visapient/Video/TrainVideo/golf0213_driving\\\\DSWrongHand\\\\p2/04.avi',\n",
       " 'C:/Users/LuisR/Desktop/visapient/Video/TrainVideo/golf0213_driving\\\\DSWrongHand\\\\p2/05.avi',\n",
       " 'C:/Users/LuisR/Desktop/visapient/Video/TrainVideo/golf0213_driving\\\\DSWrongHand\\\\p3/00.avi',\n",
       " 'C:/Users/LuisR/Desktop/visapient/Video/TrainVideo/golf0213_driving\\\\DSWrongHand\\\\p3/01.avi',\n",
       " 'C:/Users/LuisR/Desktop/visapient/Video/TrainVideo/golf0213_driving\\\\DSWrongHand\\\\p3/02.avi',\n",
       " 'C:/Users/LuisR/Desktop/visapient/Video/TrainVideo/golf0213_driving\\\\DSWrongHand\\\\p3/03.avi',\n",
       " 'C:/Users/LuisR/Desktop/visapient/Video/TrainVideo/golf0213_driving\\\\DSWrongHand\\\\p3/04.avi',\n",
       " 'C:/Users/LuisR/Desktop/visapient/Video/TrainVideo/golf0213_driving\\\\DSWrongHand\\\\p3/05.avi',\n",
       " 'C:/Users/LuisR/Desktop/visapient/Video/TrainVideo/golf0213_driving\\\\DSWrongHand\\\\p4/00.avi',\n",
       " 'C:/Users/LuisR/Desktop/visapient/Video/TrainVideo/golf0213_driving\\\\DSWrongHand\\\\p4/01.avi',\n",
       " 'C:/Users/LuisR/Desktop/visapient/Video/TrainVideo/golf0213_driving\\\\DSWrongHand\\\\p4/02.avi',\n",
       " 'C:/Users/LuisR/Desktop/visapient/Video/TrainVideo/golf0213_driving\\\\DSWrongHand\\\\p4/03.avi',\n",
       " 'C:/Users/LuisR/Desktop/visapient/Video/TrainVideo/golf0213_driving\\\\DSWrongHand\\\\p4/04.avi',\n",
       " 'C:/Users/LuisR/Desktop/visapient/Video/TrainVideo/golf0213_driving\\\\DSWrongHand\\\\p4/05.avi',\n",
       " 'C:/Users/LuisR/Desktop/visapient/Video/TrainVideo/golf0213_driving\\\\DSWrongHand\\\\p5/00.avi',\n",
       " 'C:/Users/LuisR/Desktop/visapient/Video/TrainVideo/golf0213_driving\\\\DSWrongHand\\\\p5/01.avi',\n",
       " 'C:/Users/LuisR/Desktop/visapient/Video/TrainVideo/golf0213_driving\\\\DSWrongHand\\\\p5/02.avi',\n",
       " 'C:/Users/LuisR/Desktop/visapient/Video/TrainVideo/golf0213_driving\\\\DSWrongHand\\\\p5/03.avi',\n",
       " 'C:/Users/LuisR/Desktop/visapient/Video/TrainVideo/golf0213_driving\\\\DSWrongHand\\\\p5/04.avi',\n",
       " 'C:/Users/LuisR/Desktop/visapient/Video/TrainVideo/golf0213_driving\\\\DSWrongHand\\\\p5/05.avi',\n",
       " 'C:/Users/LuisR/Desktop/visapient/Video/TrainVideo/golf0213_driving\\\\DSWrongHand\\\\p6/00.avi',\n",
       " 'C:/Users/LuisR/Desktop/visapient/Video/TrainVideo/golf0213_driving\\\\DSWrongHand\\\\p6/01.avi',\n",
       " 'C:/Users/LuisR/Desktop/visapient/Video/TrainVideo/golf0213_driving\\\\DSWrongHand\\\\p6/02.avi',\n",
       " 'C:/Users/LuisR/Desktop/visapient/Video/TrainVideo/golf0213_driving\\\\DSWrongHand\\\\p6/03.avi',\n",
       " 'C:/Users/LuisR/Desktop/visapient/Video/TrainVideo/golf0213_driving\\\\DSWrongHand\\\\p6/04.avi',\n",
       " 'C:/Users/LuisR/Desktop/visapient/Video/TrainVideo/golf0213_driving\\\\DSWrongHand\\\\p6/05.avi',\n",
       " 'C:/Users/LuisR/Desktop/visapient/Video/TrainVideo/golf0213_driving\\\\DSWrongHand\\\\p7/00.avi',\n",
       " 'C:/Users/LuisR/Desktop/visapient/Video/TrainVideo/golf0213_driving\\\\DSWrongHand\\\\p7/01.avi',\n",
       " 'C:/Users/LuisR/Desktop/visapient/Video/TrainVideo/golf0213_driving\\\\DSWrongHand\\\\p7/02.avi',\n",
       " 'C:/Users/LuisR/Desktop/visapient/Video/TrainVideo/golf0213_driving\\\\DSWrongHand\\\\p7/03.avi',\n",
       " 'C:/Users/LuisR/Desktop/visapient/Video/TrainVideo/golf0213_driving\\\\DSWrongHand\\\\p7/04.avi',\n",
       " 'C:/Users/LuisR/Desktop/visapient/Video/TrainVideo/golf0213_driving\\\\DSWrongHand\\\\p7/05.avi',\n",
       " 'C:/Users/LuisR/Desktop/visapient/Video/TrainVideo/golf0213_driving\\\\DSWrongHand\\\\p8/00.avi',\n",
       " 'C:/Users/LuisR/Desktop/visapient/Video/TrainVideo/golf0213_driving\\\\DSWrongHand\\\\p8/01.avi',\n",
       " 'C:/Users/LuisR/Desktop/visapient/Video/TrainVideo/golf0213_driving\\\\DSWrongHand\\\\p8/02.avi',\n",
       " 'C:/Users/LuisR/Desktop/visapient/Video/TrainVideo/golf0213_driving\\\\DSWrongHand\\\\p8/03.avi',\n",
       " 'C:/Users/LuisR/Desktop/visapient/Video/TrainVideo/golf0213_driving\\\\DSWrongHand\\\\p8/04.avi',\n",
       " 'C:/Users/LuisR/Desktop/visapient/Video/TrainVideo/golf0213_driving\\\\DSWrongHand\\\\p8/05.avi',\n",
       " 'C:/Users/LuisR/Desktop/visapient/Video/TrainVideo/golf0213_driving\\\\DU1Right\\\\p1/00.avi',\n",
       " 'C:/Users/LuisR/Desktop/visapient/Video/TrainVideo/golf0213_driving\\\\DU1Right\\\\p1/01.avi',\n",
       " 'C:/Users/LuisR/Desktop/visapient/Video/TrainVideo/golf0213_driving\\\\DU1Right\\\\p1/02.avi',\n",
       " 'C:/Users/LuisR/Desktop/visapient/Video/TrainVideo/golf0213_driving\\\\DU1Right\\\\p1/03.avi',\n",
       " 'C:/Users/LuisR/Desktop/visapient/Video/TrainVideo/golf0213_driving\\\\DU1Right\\\\p1/04.avi',\n",
       " 'C:/Users/LuisR/Desktop/visapient/Video/TrainVideo/golf0213_driving\\\\DU1Right\\\\p1/05.avi',\n",
       " 'C:/Users/LuisR/Desktop/visapient/Video/TrainVideo/golf0213_driving\\\\DU1Right\\\\p2/00.avi',\n",
       " 'C:/Users/LuisR/Desktop/visapient/Video/TrainVideo/golf0213_driving\\\\DU1Right\\\\p2/01.avi',\n",
       " 'C:/Users/LuisR/Desktop/visapient/Video/TrainVideo/golf0213_driving\\\\DU1Right\\\\p2/02.avi',\n",
       " 'C:/Users/LuisR/Desktop/visapient/Video/TrainVideo/golf0213_driving\\\\DU1Right\\\\p2/03.avi',\n",
       " 'C:/Users/LuisR/Desktop/visapient/Video/TrainVideo/golf0213_driving\\\\DU1Right\\\\p2/04.avi',\n",
       " 'C:/Users/LuisR/Desktop/visapient/Video/TrainVideo/golf0213_driving\\\\DU1Right\\\\p2/05.avi',\n",
       " 'C:/Users/LuisR/Desktop/visapient/Video/TrainVideo/golf0213_driving\\\\DU1Right\\\\p3/00.avi',\n",
       " 'C:/Users/LuisR/Desktop/visapient/Video/TrainVideo/golf0213_driving\\\\DU1Right\\\\p3/01.avi',\n",
       " 'C:/Users/LuisR/Desktop/visapient/Video/TrainVideo/golf0213_driving\\\\DU1Right\\\\p3/02.avi',\n",
       " 'C:/Users/LuisR/Desktop/visapient/Video/TrainVideo/golf0213_driving\\\\DU1Right\\\\p3/03.avi',\n",
       " 'C:/Users/LuisR/Desktop/visapient/Video/TrainVideo/golf0213_driving\\\\DU1Right\\\\p3/04.avi',\n",
       " 'C:/Users/LuisR/Desktop/visapient/Video/TrainVideo/golf0213_driving\\\\DU1Right\\\\p3/05.avi',\n",
       " 'C:/Users/LuisR/Desktop/visapient/Video/TrainVideo/golf0213_driving\\\\DU1Right\\\\p4/00.avi',\n",
       " 'C:/Users/LuisR/Desktop/visapient/Video/TrainVideo/golf0213_driving\\\\DU1Right\\\\p4/01.avi',\n",
       " 'C:/Users/LuisR/Desktop/visapient/Video/TrainVideo/golf0213_driving\\\\DU1Right\\\\p4/02.avi',\n",
       " 'C:/Users/LuisR/Desktop/visapient/Video/TrainVideo/golf0213_driving\\\\DU1Right\\\\p4/03.avi',\n",
       " 'C:/Users/LuisR/Desktop/visapient/Video/TrainVideo/golf0213_driving\\\\DU1Right\\\\p4/04.avi',\n",
       " 'C:/Users/LuisR/Desktop/visapient/Video/TrainVideo/golf0213_driving\\\\DU1Right\\\\p4/05.avi',\n",
       " 'C:/Users/LuisR/Desktop/visapient/Video/TrainVideo/golf0213_driving\\\\DU1Right\\\\p5/00.avi',\n",
       " 'C:/Users/LuisR/Desktop/visapient/Video/TrainVideo/golf0213_driving\\\\DU1Right\\\\p5/01.avi',\n",
       " 'C:/Users/LuisR/Desktop/visapient/Video/TrainVideo/golf0213_driving\\\\DU1Right\\\\p5/02.avi',\n",
       " 'C:/Users/LuisR/Desktop/visapient/Video/TrainVideo/golf0213_driving\\\\DU1Right\\\\p5/03.avi',\n",
       " 'C:/Users/LuisR/Desktop/visapient/Video/TrainVideo/golf0213_driving\\\\DU1Right\\\\p5/04.avi',\n",
       " 'C:/Users/LuisR/Desktop/visapient/Video/TrainVideo/golf0213_driving\\\\DU1Right\\\\p5/05.avi',\n",
       " 'C:/Users/LuisR/Desktop/visapient/Video/TrainVideo/golf0213_driving\\\\DU1Right\\\\p6/00.avi',\n",
       " 'C:/Users/LuisR/Desktop/visapient/Video/TrainVideo/golf0213_driving\\\\DU1Right\\\\p6/01.avi',\n",
       " 'C:/Users/LuisR/Desktop/visapient/Video/TrainVideo/golf0213_driving\\\\DU1Right\\\\p6/02.avi',\n",
       " 'C:/Users/LuisR/Desktop/visapient/Video/TrainVideo/golf0213_driving\\\\DU1Right\\\\p6/03.avi',\n",
       " 'C:/Users/LuisR/Desktop/visapient/Video/TrainVideo/golf0213_driving\\\\DU1Right\\\\p6/04.avi',\n",
       " 'C:/Users/LuisR/Desktop/visapient/Video/TrainVideo/golf0213_driving\\\\DU1Right\\\\p6/05.avi',\n",
       " 'C:/Users/LuisR/Desktop/visapient/Video/TrainVideo/golf0213_driving\\\\DU1Right\\\\p7/00.avi',\n",
       " 'C:/Users/LuisR/Desktop/visapient/Video/TrainVideo/golf0213_driving\\\\DU1Right\\\\p7/01.avi',\n",
       " 'C:/Users/LuisR/Desktop/visapient/Video/TrainVideo/golf0213_driving\\\\DU1Right\\\\p7/02.avi',\n",
       " 'C:/Users/LuisR/Desktop/visapient/Video/TrainVideo/golf0213_driving\\\\DU1Right\\\\p7/03.avi',\n",
       " 'C:/Users/LuisR/Desktop/visapient/Video/TrainVideo/golf0213_driving\\\\DU1Right\\\\p7/04.avi',\n",
       " 'C:/Users/LuisR/Desktop/visapient/Video/TrainVideo/golf0213_driving\\\\DU1Right\\\\p7/05.avi',\n",
       " 'C:/Users/LuisR/Desktop/visapient/Video/TrainVideo/golf0213_driving\\\\DU1Right\\\\p8/00.avi',\n",
       " 'C:/Users/LuisR/Desktop/visapient/Video/TrainVideo/golf0213_driving\\\\DU1Right\\\\p8/01.avi',\n",
       " 'C:/Users/LuisR/Desktop/visapient/Video/TrainVideo/golf0213_driving\\\\DU1Right\\\\p8/02.avi',\n",
       " 'C:/Users/LuisR/Desktop/visapient/Video/TrainVideo/golf0213_driving\\\\DU1Right\\\\p8/03.avi',\n",
       " 'C:/Users/LuisR/Desktop/visapient/Video/TrainVideo/golf0213_driving\\\\DU1Right\\\\p8/04.avi',\n",
       " 'C:/Users/LuisR/Desktop/visapient/Video/TrainVideo/golf0213_driving\\\\DU1Right\\\\p8/05.avi',\n",
       " 'C:/Users/LuisR/Desktop/visapient/Video/TrainVideo/golf0213_driving\\\\DU1WrongArm\\\\p1/00.avi',\n",
       " 'C:/Users/LuisR/Desktop/visapient/Video/TrainVideo/golf0213_driving\\\\DU1WrongArm\\\\p1/01.avi',\n",
       " 'C:/Users/LuisR/Desktop/visapient/Video/TrainVideo/golf0213_driving\\\\DU1WrongArm\\\\p1/02.avi',\n",
       " 'C:/Users/LuisR/Desktop/visapient/Video/TrainVideo/golf0213_driving\\\\DU1WrongArm\\\\p1/03.avi',\n",
       " 'C:/Users/LuisR/Desktop/visapient/Video/TrainVideo/golf0213_driving\\\\DU1WrongArm\\\\p1/04.avi',\n",
       " 'C:/Users/LuisR/Desktop/visapient/Video/TrainVideo/golf0213_driving\\\\DU1WrongArm\\\\p1/05.avi',\n",
       " 'C:/Users/LuisR/Desktop/visapient/Video/TrainVideo/golf0213_driving\\\\DU1WrongArm\\\\p2/00.avi',\n",
       " 'C:/Users/LuisR/Desktop/visapient/Video/TrainVideo/golf0213_driving\\\\DU1WrongArm\\\\p2/01.avi',\n",
       " 'C:/Users/LuisR/Desktop/visapient/Video/TrainVideo/golf0213_driving\\\\DU1WrongArm\\\\p2/02.avi',\n",
       " 'C:/Users/LuisR/Desktop/visapient/Video/TrainVideo/golf0213_driving\\\\DU1WrongArm\\\\p2/03.avi',\n",
       " 'C:/Users/LuisR/Desktop/visapient/Video/TrainVideo/golf0213_driving\\\\DU1WrongArm\\\\p2/04.avi',\n",
       " 'C:/Users/LuisR/Desktop/visapient/Video/TrainVideo/golf0213_driving\\\\DU1WrongArm\\\\p2/05.avi',\n",
       " 'C:/Users/LuisR/Desktop/visapient/Video/TrainVideo/golf0213_driving\\\\DU1WrongArm\\\\p3/00.avi',\n",
       " 'C:/Users/LuisR/Desktop/visapient/Video/TrainVideo/golf0213_driving\\\\DU1WrongArm\\\\p3/01.avi',\n",
       " 'C:/Users/LuisR/Desktop/visapient/Video/TrainVideo/golf0213_driving\\\\DU1WrongArm\\\\p3/02.avi',\n",
       " 'C:/Users/LuisR/Desktop/visapient/Video/TrainVideo/golf0213_driving\\\\DU1WrongArm\\\\p3/03.avi',\n",
       " 'C:/Users/LuisR/Desktop/visapient/Video/TrainVideo/golf0213_driving\\\\DU1WrongArm\\\\p3/04.avi',\n",
       " 'C:/Users/LuisR/Desktop/visapient/Video/TrainVideo/golf0213_driving\\\\DU1WrongArm\\\\p3/05.avi',\n",
       " 'C:/Users/LuisR/Desktop/visapient/Video/TrainVideo/golf0213_driving\\\\DU1WrongArm\\\\p4/00.avi',\n",
       " 'C:/Users/LuisR/Desktop/visapient/Video/TrainVideo/golf0213_driving\\\\DU1WrongArm\\\\p4/01.avi',\n",
       " 'C:/Users/LuisR/Desktop/visapient/Video/TrainVideo/golf0213_driving\\\\DU1WrongArm\\\\p4/02.avi',\n",
       " 'C:/Users/LuisR/Desktop/visapient/Video/TrainVideo/golf0213_driving\\\\DU1WrongArm\\\\p4/03.avi',\n",
       " 'C:/Users/LuisR/Desktop/visapient/Video/TrainVideo/golf0213_driving\\\\DU1WrongArm\\\\p4/04.avi',\n",
       " 'C:/Users/LuisR/Desktop/visapient/Video/TrainVideo/golf0213_driving\\\\DU1WrongArm\\\\p4/05.avi',\n",
       " 'C:/Users/LuisR/Desktop/visapient/Video/TrainVideo/golf0213_driving\\\\DU1WrongArm\\\\p5/00.avi',\n",
       " 'C:/Users/LuisR/Desktop/visapient/Video/TrainVideo/golf0213_driving\\\\DU1WrongArm\\\\p5/01.avi',\n",
       " 'C:/Users/LuisR/Desktop/visapient/Video/TrainVideo/golf0213_driving\\\\DU1WrongArm\\\\p5/02.avi',\n",
       " 'C:/Users/LuisR/Desktop/visapient/Video/TrainVideo/golf0213_driving\\\\DU1WrongArm\\\\p5/03.avi',\n",
       " 'C:/Users/LuisR/Desktop/visapient/Video/TrainVideo/golf0213_driving\\\\DU1WrongArm\\\\p5/04.avi',\n",
       " 'C:/Users/LuisR/Desktop/visapient/Video/TrainVideo/golf0213_driving\\\\DU1WrongArm\\\\p5/05.avi',\n",
       " 'C:/Users/LuisR/Desktop/visapient/Video/TrainVideo/golf0213_driving\\\\DU1WrongArm\\\\p6/00.avi',\n",
       " 'C:/Users/LuisR/Desktop/visapient/Video/TrainVideo/golf0213_driving\\\\DU1WrongArm\\\\p6/01.avi',\n",
       " 'C:/Users/LuisR/Desktop/visapient/Video/TrainVideo/golf0213_driving\\\\DU1WrongArm\\\\p6/02.avi',\n",
       " 'C:/Users/LuisR/Desktop/visapient/Video/TrainVideo/golf0213_driving\\\\DU1WrongArm\\\\p6/03.avi',\n",
       " 'C:/Users/LuisR/Desktop/visapient/Video/TrainVideo/golf0213_driving\\\\DU1WrongArm\\\\p6/04.avi',\n",
       " 'C:/Users/LuisR/Desktop/visapient/Video/TrainVideo/golf0213_driving\\\\DU1WrongArm\\\\p6/05.avi',\n",
       " 'C:/Users/LuisR/Desktop/visapient/Video/TrainVideo/golf0213_driving\\\\DU1WrongArm\\\\p7/00.avi',\n",
       " 'C:/Users/LuisR/Desktop/visapient/Video/TrainVideo/golf0213_driving\\\\DU1WrongArm\\\\p7/01.avi',\n",
       " 'C:/Users/LuisR/Desktop/visapient/Video/TrainVideo/golf0213_driving\\\\DU1WrongArm\\\\p7/02.avi',\n",
       " 'C:/Users/LuisR/Desktop/visapient/Video/TrainVideo/golf0213_driving\\\\DU1WrongArm\\\\p7/03.avi',\n",
       " 'C:/Users/LuisR/Desktop/visapient/Video/TrainVideo/golf0213_driving\\\\DU1WrongArm\\\\p7/04.avi',\n",
       " 'C:/Users/LuisR/Desktop/visapient/Video/TrainVideo/golf0213_driving\\\\DU1WrongArm\\\\p7/05.avi',\n",
       " 'C:/Users/LuisR/Desktop/visapient/Video/TrainVideo/golf0213_driving\\\\DU1WrongArm\\\\p8/00.avi',\n",
       " 'C:/Users/LuisR/Desktop/visapient/Video/TrainVideo/golf0213_driving\\\\DU1WrongArm\\\\p8/01.avi',\n",
       " 'C:/Users/LuisR/Desktop/visapient/Video/TrainVideo/golf0213_driving\\\\DU1WrongArm\\\\p8/02.avi',\n",
       " 'C:/Users/LuisR/Desktop/visapient/Video/TrainVideo/golf0213_driving\\\\DU1WrongArm\\\\p8/03.avi',\n",
       " 'C:/Users/LuisR/Desktop/visapient/Video/TrainVideo/golf0213_driving\\\\DU1WrongArm\\\\p8/04.avi',\n",
       " 'C:/Users/LuisR/Desktop/visapient/Video/TrainVideo/golf0213_driving\\\\DU1WrongArm\\\\p8/05.avi',\n",
       " 'C:/Users/LuisR/Desktop/visapient/Video/TrainVideo/golf0213_driving\\\\DU2NoTurn\\\\p1/00.avi',\n",
       " 'C:/Users/LuisR/Desktop/visapient/Video/TrainVideo/golf0213_driving\\\\DU2NoTurn\\\\p1/01.avi',\n",
       " 'C:/Users/LuisR/Desktop/visapient/Video/TrainVideo/golf0213_driving\\\\DU2NoTurn\\\\p1/02.avi',\n",
       " 'C:/Users/LuisR/Desktop/visapient/Video/TrainVideo/golf0213_driving\\\\DU2NoTurn\\\\p1/03.avi',\n",
       " 'C:/Users/LuisR/Desktop/visapient/Video/TrainVideo/golf0213_driving\\\\DU2NoTurn\\\\p1/04.avi',\n",
       " 'C:/Users/LuisR/Desktop/visapient/Video/TrainVideo/golf0213_driving\\\\DU2NoTurn\\\\p1/05.avi',\n",
       " 'C:/Users/LuisR/Desktop/visapient/Video/TrainVideo/golf0213_driving\\\\DU2NoTurn\\\\p2/00.avi',\n",
       " 'C:/Users/LuisR/Desktop/visapient/Video/TrainVideo/golf0213_driving\\\\DU2NoTurn\\\\p2/01.avi',\n",
       " 'C:/Users/LuisR/Desktop/visapient/Video/TrainVideo/golf0213_driving\\\\DU2NoTurn\\\\p2/02.avi',\n",
       " 'C:/Users/LuisR/Desktop/visapient/Video/TrainVideo/golf0213_driving\\\\DU2NoTurn\\\\p2/03.avi',\n",
       " 'C:/Users/LuisR/Desktop/visapient/Video/TrainVideo/golf0213_driving\\\\DU2NoTurn\\\\p2/04.avi',\n",
       " 'C:/Users/LuisR/Desktop/visapient/Video/TrainVideo/golf0213_driving\\\\DU2NoTurn\\\\p2/05.avi',\n",
       " 'C:/Users/LuisR/Desktop/visapient/Video/TrainVideo/golf0213_driving\\\\DU2NoTurn\\\\p3/00.avi',\n",
       " 'C:/Users/LuisR/Desktop/visapient/Video/TrainVideo/golf0213_driving\\\\DU2NoTurn\\\\p3/01.avi',\n",
       " 'C:/Users/LuisR/Desktop/visapient/Video/TrainVideo/golf0213_driving\\\\DU2NoTurn\\\\p3/02.avi',\n",
       " 'C:/Users/LuisR/Desktop/visapient/Video/TrainVideo/golf0213_driving\\\\DU2NoTurn\\\\p3/03.avi',\n",
       " 'C:/Users/LuisR/Desktop/visapient/Video/TrainVideo/golf0213_driving\\\\DU2NoTurn\\\\p3/04.avi',\n",
       " 'C:/Users/LuisR/Desktop/visapient/Video/TrainVideo/golf0213_driving\\\\DU2NoTurn\\\\p3/05.avi',\n",
       " 'C:/Users/LuisR/Desktop/visapient/Video/TrainVideo/golf0213_driving\\\\DU2NoTurn\\\\p4/00.avi',\n",
       " 'C:/Users/LuisR/Desktop/visapient/Video/TrainVideo/golf0213_driving\\\\DU2NoTurn\\\\p4/01.avi',\n",
       " 'C:/Users/LuisR/Desktop/visapient/Video/TrainVideo/golf0213_driving\\\\DU2NoTurn\\\\p4/02.avi',\n",
       " 'C:/Users/LuisR/Desktop/visapient/Video/TrainVideo/golf0213_driving\\\\DU2NoTurn\\\\p4/03.avi',\n",
       " 'C:/Users/LuisR/Desktop/visapient/Video/TrainVideo/golf0213_driving\\\\DU2NoTurn\\\\p4/04.avi',\n",
       " 'C:/Users/LuisR/Desktop/visapient/Video/TrainVideo/golf0213_driving\\\\DU2NoTurn\\\\p4/05.avi',\n",
       " 'C:/Users/LuisR/Desktop/visapient/Video/TrainVideo/golf0213_driving\\\\DU2NoTurn\\\\p5/00.avi',\n",
       " 'C:/Users/LuisR/Desktop/visapient/Video/TrainVideo/golf0213_driving\\\\DU2NoTurn\\\\p5/01.avi',\n",
       " 'C:/Users/LuisR/Desktop/visapient/Video/TrainVideo/golf0213_driving\\\\DU2NoTurn\\\\p5/02.avi',\n",
       " 'C:/Users/LuisR/Desktop/visapient/Video/TrainVideo/golf0213_driving\\\\DU2NoTurn\\\\p5/03.avi',\n",
       " 'C:/Users/LuisR/Desktop/visapient/Video/TrainVideo/golf0213_driving\\\\DU2NoTurn\\\\p5/04.avi',\n",
       " 'C:/Users/LuisR/Desktop/visapient/Video/TrainVideo/golf0213_driving\\\\DU2NoTurn\\\\p5/05.avi',\n",
       " 'C:/Users/LuisR/Desktop/visapient/Video/TrainVideo/golf0213_driving\\\\DU2NoTurn\\\\p6/00.avi',\n",
       " 'C:/Users/LuisR/Desktop/visapient/Video/TrainVideo/golf0213_driving\\\\DU2NoTurn\\\\p6/01.avi',\n",
       " 'C:/Users/LuisR/Desktop/visapient/Video/TrainVideo/golf0213_driving\\\\DU2NoTurn\\\\p6/02.avi',\n",
       " 'C:/Users/LuisR/Desktop/visapient/Video/TrainVideo/golf0213_driving\\\\DU2NoTurn\\\\p6/03.avi',\n",
       " 'C:/Users/LuisR/Desktop/visapient/Video/TrainVideo/golf0213_driving\\\\DU2NoTurn\\\\p6/04.avi',\n",
       " 'C:/Users/LuisR/Desktop/visapient/Video/TrainVideo/golf0213_driving\\\\DU2NoTurn\\\\p6/05.avi',\n",
       " 'C:/Users/LuisR/Desktop/visapient/Video/TrainVideo/golf0213_driving\\\\DU2NoTurn\\\\p7/00.avi',\n",
       " 'C:/Users/LuisR/Desktop/visapient/Video/TrainVideo/golf0213_driving\\\\DU2NoTurn\\\\p7/01.avi',\n",
       " 'C:/Users/LuisR/Desktop/visapient/Video/TrainVideo/golf0213_driving\\\\DU2NoTurn\\\\p7/02.avi',\n",
       " 'C:/Users/LuisR/Desktop/visapient/Video/TrainVideo/golf0213_driving\\\\DU2NoTurn\\\\p7/03.avi',\n",
       " 'C:/Users/LuisR/Desktop/visapient/Video/TrainVideo/golf0213_driving\\\\DU2NoTurn\\\\p7/04.avi',\n",
       " 'C:/Users/LuisR/Desktop/visapient/Video/TrainVideo/golf0213_driving\\\\DU2NoTurn\\\\p7/05.avi',\n",
       " 'C:/Users/LuisR/Desktop/visapient/Video/TrainVideo/golf0213_driving\\\\DU2NoTurn\\\\p8/00.avi',\n",
       " 'C:/Users/LuisR/Desktop/visapient/Video/TrainVideo/golf0213_driving\\\\DU2NoTurn\\\\p8/01.avi',\n",
       " 'C:/Users/LuisR/Desktop/visapient/Video/TrainVideo/golf0213_driving\\\\DU2NoTurn\\\\p8/02.avi',\n",
       " 'C:/Users/LuisR/Desktop/visapient/Video/TrainVideo/golf0213_driving\\\\DU2NoTurn\\\\p8/03.avi',\n",
       " 'C:/Users/LuisR/Desktop/visapient/Video/TrainVideo/golf0213_driving\\\\DU2NoTurn\\\\p8/04.avi',\n",
       " 'C:/Users/LuisR/Desktop/visapient/Video/TrainVideo/golf0213_driving\\\\DU2NoTurn\\\\p8/05.avi',\n",
       " 'C:/Users/LuisR/Desktop/visapient/Video/TrainVideo/golf0213_driving\\\\DU2Right\\\\p1/00.avi',\n",
       " 'C:/Users/LuisR/Desktop/visapient/Video/TrainVideo/golf0213_driving\\\\DU2Right\\\\p1/01.avi',\n",
       " 'C:/Users/LuisR/Desktop/visapient/Video/TrainVideo/golf0213_driving\\\\DU2Right\\\\p1/02.avi',\n",
       " 'C:/Users/LuisR/Desktop/visapient/Video/TrainVideo/golf0213_driving\\\\DU2Right\\\\p1/03.avi',\n",
       " 'C:/Users/LuisR/Desktop/visapient/Video/TrainVideo/golf0213_driving\\\\DU2Right\\\\p1/04.avi',\n",
       " 'C:/Users/LuisR/Desktop/visapient/Video/TrainVideo/golf0213_driving\\\\DU2Right\\\\p1/05.avi',\n",
       " 'C:/Users/LuisR/Desktop/visapient/Video/TrainVideo/golf0213_driving\\\\DU2Right\\\\p2/00.avi',\n",
       " 'C:/Users/LuisR/Desktop/visapient/Video/TrainVideo/golf0213_driving\\\\DU2Right\\\\p2/01.avi',\n",
       " 'C:/Users/LuisR/Desktop/visapient/Video/TrainVideo/golf0213_driving\\\\DU2Right\\\\p2/02.avi',\n",
       " 'C:/Users/LuisR/Desktop/visapient/Video/TrainVideo/golf0213_driving\\\\DU2Right\\\\p2/03.avi',\n",
       " 'C:/Users/LuisR/Desktop/visapient/Video/TrainVideo/golf0213_driving\\\\DU2Right\\\\p2/04.avi',\n",
       " 'C:/Users/LuisR/Desktop/visapient/Video/TrainVideo/golf0213_driving\\\\DU2Right\\\\p2/05.avi',\n",
       " 'C:/Users/LuisR/Desktop/visapient/Video/TrainVideo/golf0213_driving\\\\DU2Right\\\\p3/00.avi',\n",
       " 'C:/Users/LuisR/Desktop/visapient/Video/TrainVideo/golf0213_driving\\\\DU2Right\\\\p3/01.avi',\n",
       " 'C:/Users/LuisR/Desktop/visapient/Video/TrainVideo/golf0213_driving\\\\DU2Right\\\\p3/02.avi',\n",
       " 'C:/Users/LuisR/Desktop/visapient/Video/TrainVideo/golf0213_driving\\\\DU2Right\\\\p3/03.avi',\n",
       " 'C:/Users/LuisR/Desktop/visapient/Video/TrainVideo/golf0213_driving\\\\DU2Right\\\\p3/04.avi',\n",
       " 'C:/Users/LuisR/Desktop/visapient/Video/TrainVideo/golf0213_driving\\\\DU2Right\\\\p3/05.avi',\n",
       " 'C:/Users/LuisR/Desktop/visapient/Video/TrainVideo/golf0213_driving\\\\DU2Right\\\\p4/00.avi',\n",
       " 'C:/Users/LuisR/Desktop/visapient/Video/TrainVideo/golf0213_driving\\\\DU2Right\\\\p4/01.avi',\n",
       " 'C:/Users/LuisR/Desktop/visapient/Video/TrainVideo/golf0213_driving\\\\DU2Right\\\\p4/02.avi',\n",
       " 'C:/Users/LuisR/Desktop/visapient/Video/TrainVideo/golf0213_driving\\\\DU2Right\\\\p4/03.avi',\n",
       " 'C:/Users/LuisR/Desktop/visapient/Video/TrainVideo/golf0213_driving\\\\DU2Right\\\\p4/04.avi',\n",
       " 'C:/Users/LuisR/Desktop/visapient/Video/TrainVideo/golf0213_driving\\\\DU2Right\\\\p4/05.avi',\n",
       " 'C:/Users/LuisR/Desktop/visapient/Video/TrainVideo/golf0213_driving\\\\DU2Right\\\\p5/00.avi',\n",
       " 'C:/Users/LuisR/Desktop/visapient/Video/TrainVideo/golf0213_driving\\\\DU2Right\\\\p5/01.avi',\n",
       " 'C:/Users/LuisR/Desktop/visapient/Video/TrainVideo/golf0213_driving\\\\DU2Right\\\\p5/02.avi',\n",
       " 'C:/Users/LuisR/Desktop/visapient/Video/TrainVideo/golf0213_driving\\\\DU2Right\\\\p5/03.avi',\n",
       " 'C:/Users/LuisR/Desktop/visapient/Video/TrainVideo/golf0213_driving\\\\DU2Right\\\\p5/04.avi',\n",
       " 'C:/Users/LuisR/Desktop/visapient/Video/TrainVideo/golf0213_driving\\\\DU2Right\\\\p5/05.avi',\n",
       " 'C:/Users/LuisR/Desktop/visapient/Video/TrainVideo/golf0213_driving\\\\DU2Right\\\\p6/00.avi',\n",
       " 'C:/Users/LuisR/Desktop/visapient/Video/TrainVideo/golf0213_driving\\\\DU2Right\\\\p6/01.avi',\n",
       " 'C:/Users/LuisR/Desktop/visapient/Video/TrainVideo/golf0213_driving\\\\DU2Right\\\\p6/02.avi',\n",
       " 'C:/Users/LuisR/Desktop/visapient/Video/TrainVideo/golf0213_driving\\\\DU2Right\\\\p6/03.avi',\n",
       " 'C:/Users/LuisR/Desktop/visapient/Video/TrainVideo/golf0213_driving\\\\DU2Right\\\\p6/04.avi',\n",
       " 'C:/Users/LuisR/Desktop/visapient/Video/TrainVideo/golf0213_driving\\\\DU2Right\\\\p6/05.avi',\n",
       " 'C:/Users/LuisR/Desktop/visapient/Video/TrainVideo/golf0213_driving\\\\DU2Right\\\\p7/00.avi',\n",
       " 'C:/Users/LuisR/Desktop/visapient/Video/TrainVideo/golf0213_driving\\\\DU2Right\\\\p7/01.avi',\n",
       " 'C:/Users/LuisR/Desktop/visapient/Video/TrainVideo/golf0213_driving\\\\DU2Right\\\\p7/02.avi',\n",
       " 'C:/Users/LuisR/Desktop/visapient/Video/TrainVideo/golf0213_driving\\\\DU2Right\\\\p7/03.avi',\n",
       " 'C:/Users/LuisR/Desktop/visapient/Video/TrainVideo/golf0213_driving\\\\DU2Right\\\\p7/04.avi',\n",
       " 'C:/Users/LuisR/Desktop/visapient/Video/TrainVideo/golf0213_driving\\\\DU2Right\\\\p7/05.avi',\n",
       " 'C:/Users/LuisR/Desktop/visapient/Video/TrainVideo/golf0213_driving\\\\DU2Right\\\\p8/00.avi',\n",
       " 'C:/Users/LuisR/Desktop/visapient/Video/TrainVideo/golf0213_driving\\\\DU2Right\\\\p8/01.avi',\n",
       " 'C:/Users/LuisR/Desktop/visapient/Video/TrainVideo/golf0213_driving\\\\DU2Right\\\\p8/02.avi',\n",
       " 'C:/Users/LuisR/Desktop/visapient/Video/TrainVideo/golf0213_driving\\\\DU2Right\\\\p8/03.avi',\n",
       " 'C:/Users/LuisR/Desktop/visapient/Video/TrainVideo/golf0213_driving\\\\DU2Right\\\\p8/04.avi',\n",
       " 'C:/Users/LuisR/Desktop/visapient/Video/TrainVideo/golf0213_driving\\\\DU2Right\\\\p8/05.avi',\n",
       " 'C:/Users/LuisR/Desktop/visapient/Video/TrainVideo/golf0213_driving\\\\DU2WrongArm\\\\p1/00.avi',\n",
       " 'C:/Users/LuisR/Desktop/visapient/Video/TrainVideo/golf0213_driving\\\\DU2WrongArm\\\\p1/01.avi',\n",
       " 'C:/Users/LuisR/Desktop/visapient/Video/TrainVideo/golf0213_driving\\\\DU2WrongArm\\\\p1/02.avi',\n",
       " 'C:/Users/LuisR/Desktop/visapient/Video/TrainVideo/golf0213_driving\\\\DU2WrongArm\\\\p1/03.avi',\n",
       " 'C:/Users/LuisR/Desktop/visapient/Video/TrainVideo/golf0213_driving\\\\DU2WrongArm\\\\p1/04.avi',\n",
       " 'C:/Users/LuisR/Desktop/visapient/Video/TrainVideo/golf0213_driving\\\\DU2WrongArm\\\\p1/05.avi',\n",
       " 'C:/Users/LuisR/Desktop/visapient/Video/TrainVideo/golf0213_driving\\\\DU2WrongArm\\\\p2/00.avi',\n",
       " 'C:/Users/LuisR/Desktop/visapient/Video/TrainVideo/golf0213_driving\\\\DU2WrongArm\\\\p2/01.avi',\n",
       " 'C:/Users/LuisR/Desktop/visapient/Video/TrainVideo/golf0213_driving\\\\DU2WrongArm\\\\p2/02.avi',\n",
       " 'C:/Users/LuisR/Desktop/visapient/Video/TrainVideo/golf0213_driving\\\\DU2WrongArm\\\\p2/03.avi',\n",
       " 'C:/Users/LuisR/Desktop/visapient/Video/TrainVideo/golf0213_driving\\\\DU2WrongArm\\\\p2/04.avi',\n",
       " 'C:/Users/LuisR/Desktop/visapient/Video/TrainVideo/golf0213_driving\\\\DU2WrongArm\\\\p2/05.avi',\n",
       " 'C:/Users/LuisR/Desktop/visapient/Video/TrainVideo/golf0213_driving\\\\DU2WrongArm\\\\p3/00.avi',\n",
       " 'C:/Users/LuisR/Desktop/visapient/Video/TrainVideo/golf0213_driving\\\\DU2WrongArm\\\\p3/01.avi',\n",
       " 'C:/Users/LuisR/Desktop/visapient/Video/TrainVideo/golf0213_driving\\\\DU2WrongArm\\\\p3/02.avi',\n",
       " 'C:/Users/LuisR/Desktop/visapient/Video/TrainVideo/golf0213_driving\\\\DU2WrongArm\\\\p3/03.avi',\n",
       " 'C:/Users/LuisR/Desktop/visapient/Video/TrainVideo/golf0213_driving\\\\DU2WrongArm\\\\p3/04.avi',\n",
       " 'C:/Users/LuisR/Desktop/visapient/Video/TrainVideo/golf0213_driving\\\\DU2WrongArm\\\\p3/05.avi',\n",
       " 'C:/Users/LuisR/Desktop/visapient/Video/TrainVideo/golf0213_driving\\\\DU2WrongArm\\\\p4/00.avi',\n",
       " 'C:/Users/LuisR/Desktop/visapient/Video/TrainVideo/golf0213_driving\\\\DU2WrongArm\\\\p4/01.avi',\n",
       " 'C:/Users/LuisR/Desktop/visapient/Video/TrainVideo/golf0213_driving\\\\DU2WrongArm\\\\p4/02.avi',\n",
       " 'C:/Users/LuisR/Desktop/visapient/Video/TrainVideo/golf0213_driving\\\\DU2WrongArm\\\\p4/03.avi',\n",
       " 'C:/Users/LuisR/Desktop/visapient/Video/TrainVideo/golf0213_driving\\\\DU2WrongArm\\\\p4/04.avi',\n",
       " 'C:/Users/LuisR/Desktop/visapient/Video/TrainVideo/golf0213_driving\\\\DU2WrongArm\\\\p4/05.avi',\n",
       " 'C:/Users/LuisR/Desktop/visapient/Video/TrainVideo/golf0213_driving\\\\DU2WrongArm\\\\p5/00.avi',\n",
       " 'C:/Users/LuisR/Desktop/visapient/Video/TrainVideo/golf0213_driving\\\\DU2WrongArm\\\\p5/01.avi',\n",
       " 'C:/Users/LuisR/Desktop/visapient/Video/TrainVideo/golf0213_driving\\\\DU2WrongArm\\\\p5/02.avi',\n",
       " 'C:/Users/LuisR/Desktop/visapient/Video/TrainVideo/golf0213_driving\\\\DU2WrongArm\\\\p5/03.avi',\n",
       " 'C:/Users/LuisR/Desktop/visapient/Video/TrainVideo/golf0213_driving\\\\DU2WrongArm\\\\p5/04.avi',\n",
       " 'C:/Users/LuisR/Desktop/visapient/Video/TrainVideo/golf0213_driving\\\\DU2WrongArm\\\\p5/05.avi',\n",
       " 'C:/Users/LuisR/Desktop/visapient/Video/TrainVideo/golf0213_driving\\\\DU2WrongArm\\\\p6/00.avi',\n",
       " 'C:/Users/LuisR/Desktop/visapient/Video/TrainVideo/golf0213_driving\\\\DU2WrongArm\\\\p6/01.avi',\n",
       " 'C:/Users/LuisR/Desktop/visapient/Video/TrainVideo/golf0213_driving\\\\DU2WrongArm\\\\p6/02.avi',\n",
       " 'C:/Users/LuisR/Desktop/visapient/Video/TrainVideo/golf0213_driving\\\\DU2WrongArm\\\\p6/03.avi',\n",
       " 'C:/Users/LuisR/Desktop/visapient/Video/TrainVideo/golf0213_driving\\\\DU2WrongArm\\\\p6/04.avi',\n",
       " 'C:/Users/LuisR/Desktop/visapient/Video/TrainVideo/golf0213_driving\\\\DU2WrongArm\\\\p6/05.avi',\n",
       " 'C:/Users/LuisR/Desktop/visapient/Video/TrainVideo/golf0213_driving\\\\DU2WrongArm\\\\p7/00.avi',\n",
       " 'C:/Users/LuisR/Desktop/visapient/Video/TrainVideo/golf0213_driving\\\\DU2WrongArm\\\\p7/01.avi',\n",
       " 'C:/Users/LuisR/Desktop/visapient/Video/TrainVideo/golf0213_driving\\\\DU2WrongArm\\\\p7/02.avi',\n",
       " 'C:/Users/LuisR/Desktop/visapient/Video/TrainVideo/golf0213_driving\\\\DU2WrongArm\\\\p7/03.avi',\n",
       " 'C:/Users/LuisR/Desktop/visapient/Video/TrainVideo/golf0213_driving\\\\DU2WrongArm\\\\p7/04.avi',\n",
       " 'C:/Users/LuisR/Desktop/visapient/Video/TrainVideo/golf0213_driving\\\\DU2WrongArm\\\\p7/05.avi',\n",
       " 'C:/Users/LuisR/Desktop/visapient/Video/TrainVideo/golf0213_driving\\\\DU2WrongArm\\\\p8/00.avi',\n",
       " 'C:/Users/LuisR/Desktop/visapient/Video/TrainVideo/golf0213_driving\\\\DU2WrongArm\\\\p8/01.avi',\n",
       " 'C:/Users/LuisR/Desktop/visapient/Video/TrainVideo/golf0213_driving\\\\DU2WrongArm\\\\p8/02.avi',\n",
       " 'C:/Users/LuisR/Desktop/visapient/Video/TrainVideo/golf0213_driving\\\\DU2WrongArm\\\\p8/03.avi',\n",
       " 'C:/Users/LuisR/Desktop/visapient/Video/TrainVideo/golf0213_driving\\\\DU2WrongArm\\\\p8/04.avi',\n",
       " 'C:/Users/LuisR/Desktop/visapient/Video/TrainVideo/golf0213_driving\\\\DU2WrongArm\\\\p8/05.avi']"
      ]
     },
     "execution_count": 118,
     "metadata": {},
     "output_type": "execute_result"
    }
   ],
   "source": [
    "AVIS"
   ]
  },
  {
   "cell_type": "code",
   "execution_count": 119,
   "metadata": {},
   "outputs": [
    {
     "data": {
      "text/plain": [
       "528"
      ]
     },
     "execution_count": 119,
     "metadata": {},
     "output_type": "execute_result"
    }
   ],
   "source": [
    "len(AVIS)"
   ]
  },
  {
   "cell_type": "code",
   "execution_count": null,
   "metadata": {},
   "outputs": [],
   "source": []
  },
  {
   "cell_type": "code",
   "execution_count": 71,
   "metadata": {},
   "outputs": [],
   "source": [
    "actions=GetActions(AVIS)"
   ]
  },
  {
   "cell_type": "code",
   "execution_count": 72,
   "metadata": {
    "scrolled": true
   },
   "outputs": [
    {
     "data": {
      "text/plain": [
       "['DSWrongHand',\n",
       " 'DFRight',\n",
       " 'DU2WrongArm',\n",
       " 'DFNoFinish',\n",
       " 'DFTooLow',\n",
       " 'DU1WrongArm',\n",
       " 'DU1Right',\n",
       " 'DU2NoTurn',\n",
       " 'DSRight',\n",
       " 'DSWrongArm',\n",
       " 'DU2Right']"
      ]
     },
     "execution_count": 72,
     "metadata": {},
     "output_type": "execute_result"
    }
   ],
   "source": [
    "actions"
   ]
  },
  {
   "cell_type": "code",
   "execution_count": null,
   "metadata": {},
   "outputs": [],
   "source": []
  },
  {
   "cell_type": "code",
   "execution_count": null,
   "metadata": {},
   "outputs": [],
   "source": []
  },
  {
   "cell_type": "code",
   "execution_count": null,
   "metadata": {},
   "outputs": [],
   "source": []
  },
  {
   "cell_type": "code",
   "execution_count": null,
   "metadata": {},
   "outputs": [],
   "source": []
  },
  {
   "cell_type": "code",
   "execution_count": null,
   "metadata": {},
   "outputs": [],
   "source": []
  },
  {
   "cell_type": "code",
   "execution_count": null,
   "metadata": {},
   "outputs": [],
   "source": []
  },
  {
   "cell_type": "code",
   "execution_count": null,
   "metadata": {},
   "outputs": [],
   "source": []
  },
  {
   "cell_type": "code",
   "execution_count": 32,
   "metadata": {},
   "outputs": [
    {
     "ename": "IndexError",
     "evalue": "list index out of range",
     "output_type": "error",
     "traceback": [
      "\u001b[1;31m---------------------------------------------------------------------------\u001b[0m",
      "\u001b[1;31mIndexError\u001b[0m                                Traceback (most recent call last)",
      "\u001b[1;32m<ipython-input-32-eb5f71500d41>\u001b[0m in \u001b[0;36m<module>\u001b[1;34m()\u001b[0m\n\u001b[1;32m----> 1\u001b[1;33m \u001b[0mactions\u001b[0m\u001b[1;33m=\u001b[0m\u001b[0mGetAct\u001b[0m\u001b[1;33m(\u001b[0m\u001b[1;34m'C:/Users/LuisR/Desktop/visapient/Video/TrainVideo/golf0213_driving'\u001b[0m\u001b[1;33m)\u001b[0m\u001b[1;33m\u001b[0m\u001b[0m\n\u001b[0m",
      "\u001b[1;32m<ipython-input-30-68eb275cf73e>\u001b[0m in \u001b[0;36mGetAct\u001b[1;34m(file_dir)\u001b[0m\n\u001b[0;32m      7\u001b[0m                 \u001b[0mAVIS\u001b[0m\u001b[1;33m.\u001b[0m\u001b[0mappend\u001b[0m\u001b[1;33m(\u001b[0m\u001b[0mfilename\u001b[0m\u001b[1;33m)\u001b[0m\u001b[1;33m\u001b[0m\u001b[0m\n\u001b[0;32m      8\u001b[0m                 \u001b[1;32mbreak\u001b[0m\u001b[1;33m\u001b[0m\u001b[0m\n\u001b[1;32m----> 9\u001b[1;33m     \u001b[0mactions\u001b[0m\u001b[1;33m=\u001b[0m\u001b[0mGetActions\u001b[0m\u001b[1;33m(\u001b[0m\u001b[0mAVIS\u001b[0m\u001b[1;33m)\u001b[0m\u001b[1;33m\u001b[0m\u001b[0m\n\u001b[0m\u001b[0;32m     10\u001b[0m     \u001b[1;32mreturn\u001b[0m \u001b[0mactions\u001b[0m\u001b[1;33m\u001b[0m\u001b[0m\n\u001b[0;32m     11\u001b[0m \u001b[1;33m\u001b[0m\u001b[0m\n",
      "\u001b[1;32m<ipython-input-24-24433a7ed079>\u001b[0m in \u001b[0;36mGetActions\u001b[1;34m(avils)\u001b[0m\n\u001b[0;32m      2\u001b[0m     \u001b[0mactions\u001b[0m\u001b[1;33m=\u001b[0m\u001b[1;33m[\u001b[0m\u001b[1;33m]\u001b[0m\u001b[1;33m\u001b[0m\u001b[0m\n\u001b[0;32m      3\u001b[0m     \u001b[1;32mfor\u001b[0m \u001b[0mi\u001b[0m \u001b[1;32min\u001b[0m \u001b[0mavils\u001b[0m\u001b[1;33m:\u001b[0m\u001b[1;33m\u001b[0m\u001b[0m\n\u001b[1;32m----> 4\u001b[1;33m         \u001b[0mactions\u001b[0m\u001b[1;33m.\u001b[0m\u001b[0mappend\u001b[0m\u001b[1;33m(\u001b[0m\u001b[0mi\u001b[0m\u001b[1;33m.\u001b[0m\u001b[0msplit\u001b[0m\u001b[1;33m(\u001b[0m\u001b[1;34m'/'\u001b[0m\u001b[1;33m)\u001b[0m\u001b[1;33m[\u001b[0m\u001b[1;33m-\u001b[0m\u001b[1;36m3\u001b[0m\u001b[1;33m]\u001b[0m\u001b[1;33m)\u001b[0m\u001b[1;33m\u001b[0m\u001b[0m\n\u001b[0m\u001b[0;32m      5\u001b[0m     \u001b[1;32mreturn\u001b[0m \u001b[0mlist\u001b[0m\u001b[1;33m(\u001b[0m\u001b[0mset\u001b[0m\u001b[1;33m(\u001b[0m\u001b[0mactions\u001b[0m\u001b[1;33m)\u001b[0m\u001b[1;33m)\u001b[0m\u001b[1;33m\u001b[0m\u001b[0m\n",
      "\u001b[1;31mIndexError\u001b[0m: list index out of range"
     ]
    }
   ],
   "source": [
    "actions=GetAct('C:/Users/LuisR/Desktop/visapient/Video/TrainVideo/golf0213_driving')"
   ]
  },
  {
   "cell_type": "code",
   "execution_count": 40,
   "metadata": {},
   "outputs": [],
   "source": [
    "AVIS=[]"
   ]
  },
  {
   "cell_type": "code",
   "execution_count": 41,
   "metadata": {},
   "outputs": [],
   "source": [
    "for dirpath,dirnames,filenames in os.walk('C:/Users/LuisR/Desktop/visapient/Video/TrainVideo/golf0213_driving', topdown=False):\n",
    "        for filename in filenames: #遍历所有有文件的文件夹\n",
    "            #输出文件所在文件夹路径\n",
    "            if filename[-4:] == '.avi':\n",
    "                AVIS.append(dirpath+'/'+filename)\n",
    "                break"
   ]
  },
  {
   "cell_type": "code",
   "execution_count": 37,
   "metadata": {},
   "outputs": [
    {
     "data": {
      "text/plain": [
       "'C:/Users/LuisR/Desktop/visapient/Video/TrainVideo/golf0213_driving'"
      ]
     },
     "execution_count": 37,
     "metadata": {},
     "output_type": "execute_result"
    }
   ],
   "source": [
    "dirpath"
   ]
  },
  {
   "cell_type": "code",
   "execution_count": 38,
   "metadata": {},
   "outputs": [
    {
     "data": {
      "text/plain": [
       "['.ipynb_checkpoints',\n",
       " 'data_5',\n",
       " 'DFNoFinish',\n",
       " 'DFRight',\n",
       " 'DFTooLow',\n",
       " 'DSRight',\n",
       " 'DSWrongArm',\n",
       " 'DSWrongHand',\n",
       " 'DU1Right',\n",
       " 'DU1WrongArm',\n",
       " 'DU2NoTurn',\n",
       " 'DU2Right',\n",
       " 'DU2WrongArm']"
      ]
     },
     "execution_count": 38,
     "metadata": {},
     "output_type": "execute_result"
    }
   ],
   "source": [
    "dirnames"
   ]
  },
  {
   "cell_type": "code",
   "execution_count": 43,
   "metadata": {},
   "outputs": [
    {
     "data": {
      "text/plain": [
       "88"
      ]
     },
     "execution_count": 43,
     "metadata": {},
     "output_type": "execute_result"
    }
   ],
   "source": [
    "len(AVIS)"
   ]
  },
  {
   "cell_type": "code",
   "execution_count": 44,
   "metadata": {},
   "outputs": [
    {
     "data": {
      "text/plain": [
       "['C:/Users/LuisR/Desktop/visapient/Video/TrainVideo/golf0213_driving\\\\DFNoFinish\\\\p1/00.avi',\n",
       " 'C:/Users/LuisR/Desktop/visapient/Video/TrainVideo/golf0213_driving\\\\DFNoFinish\\\\p2/00.avi',\n",
       " 'C:/Users/LuisR/Desktop/visapient/Video/TrainVideo/golf0213_driving\\\\DFNoFinish\\\\p3/00.avi',\n",
       " 'C:/Users/LuisR/Desktop/visapient/Video/TrainVideo/golf0213_driving\\\\DFNoFinish\\\\p4/00.avi',\n",
       " 'C:/Users/LuisR/Desktop/visapient/Video/TrainVideo/golf0213_driving\\\\DFNoFinish\\\\p5/00.avi',\n",
       " 'C:/Users/LuisR/Desktop/visapient/Video/TrainVideo/golf0213_driving\\\\DFNoFinish\\\\p6/00.avi',\n",
       " 'C:/Users/LuisR/Desktop/visapient/Video/TrainVideo/golf0213_driving\\\\DFNoFinish\\\\p7/00.avi',\n",
       " 'C:/Users/LuisR/Desktop/visapient/Video/TrainVideo/golf0213_driving\\\\DFNoFinish\\\\p8/00.avi',\n",
       " 'C:/Users/LuisR/Desktop/visapient/Video/TrainVideo/golf0213_driving\\\\DFRight\\\\p1/00.avi',\n",
       " 'C:/Users/LuisR/Desktop/visapient/Video/TrainVideo/golf0213_driving\\\\DFRight\\\\p2/00.avi',\n",
       " 'C:/Users/LuisR/Desktop/visapient/Video/TrainVideo/golf0213_driving\\\\DFRight\\\\p3/00.avi',\n",
       " 'C:/Users/LuisR/Desktop/visapient/Video/TrainVideo/golf0213_driving\\\\DFRight\\\\p4/00.avi',\n",
       " 'C:/Users/LuisR/Desktop/visapient/Video/TrainVideo/golf0213_driving\\\\DFRight\\\\p5/00.avi',\n",
       " 'C:/Users/LuisR/Desktop/visapient/Video/TrainVideo/golf0213_driving\\\\DFRight\\\\p6/00.avi',\n",
       " 'C:/Users/LuisR/Desktop/visapient/Video/TrainVideo/golf0213_driving\\\\DFRight\\\\p7/00.avi',\n",
       " 'C:/Users/LuisR/Desktop/visapient/Video/TrainVideo/golf0213_driving\\\\DFRight\\\\p8/00.avi',\n",
       " 'C:/Users/LuisR/Desktop/visapient/Video/TrainVideo/golf0213_driving\\\\DFTooLow\\\\p1/00.avi',\n",
       " 'C:/Users/LuisR/Desktop/visapient/Video/TrainVideo/golf0213_driving\\\\DFTooLow\\\\p2/00.avi',\n",
       " 'C:/Users/LuisR/Desktop/visapient/Video/TrainVideo/golf0213_driving\\\\DFTooLow\\\\p3/00.avi',\n",
       " 'C:/Users/LuisR/Desktop/visapient/Video/TrainVideo/golf0213_driving\\\\DFTooLow\\\\p4/00.avi',\n",
       " 'C:/Users/LuisR/Desktop/visapient/Video/TrainVideo/golf0213_driving\\\\DFTooLow\\\\p5/00.avi',\n",
       " 'C:/Users/LuisR/Desktop/visapient/Video/TrainVideo/golf0213_driving\\\\DFTooLow\\\\p6/00.avi',\n",
       " 'C:/Users/LuisR/Desktop/visapient/Video/TrainVideo/golf0213_driving\\\\DFTooLow\\\\p7/00.avi',\n",
       " 'C:/Users/LuisR/Desktop/visapient/Video/TrainVideo/golf0213_driving\\\\DFTooLow\\\\p8/00.avi',\n",
       " 'C:/Users/LuisR/Desktop/visapient/Video/TrainVideo/golf0213_driving\\\\DSRight\\\\p1/00.avi',\n",
       " 'C:/Users/LuisR/Desktop/visapient/Video/TrainVideo/golf0213_driving\\\\DSRight\\\\p2/00.avi',\n",
       " 'C:/Users/LuisR/Desktop/visapient/Video/TrainVideo/golf0213_driving\\\\DSRight\\\\p3/00.avi',\n",
       " 'C:/Users/LuisR/Desktop/visapient/Video/TrainVideo/golf0213_driving\\\\DSRight\\\\p4/00.avi',\n",
       " 'C:/Users/LuisR/Desktop/visapient/Video/TrainVideo/golf0213_driving\\\\DSRight\\\\p5/00.avi',\n",
       " 'C:/Users/LuisR/Desktop/visapient/Video/TrainVideo/golf0213_driving\\\\DSRight\\\\p6/00.avi',\n",
       " 'C:/Users/LuisR/Desktop/visapient/Video/TrainVideo/golf0213_driving\\\\DSRight\\\\p7/00.avi',\n",
       " 'C:/Users/LuisR/Desktop/visapient/Video/TrainVideo/golf0213_driving\\\\DSRight\\\\p8/00.avi',\n",
       " 'C:/Users/LuisR/Desktop/visapient/Video/TrainVideo/golf0213_driving\\\\DSWrongArm\\\\p1/00.avi',\n",
       " 'C:/Users/LuisR/Desktop/visapient/Video/TrainVideo/golf0213_driving\\\\DSWrongArm\\\\p2/00.avi',\n",
       " 'C:/Users/LuisR/Desktop/visapient/Video/TrainVideo/golf0213_driving\\\\DSWrongArm\\\\p3/00.avi',\n",
       " 'C:/Users/LuisR/Desktop/visapient/Video/TrainVideo/golf0213_driving\\\\DSWrongArm\\\\p4/00.avi',\n",
       " 'C:/Users/LuisR/Desktop/visapient/Video/TrainVideo/golf0213_driving\\\\DSWrongArm\\\\p5/00.avi',\n",
       " 'C:/Users/LuisR/Desktop/visapient/Video/TrainVideo/golf0213_driving\\\\DSWrongArm\\\\p6/00.avi',\n",
       " 'C:/Users/LuisR/Desktop/visapient/Video/TrainVideo/golf0213_driving\\\\DSWrongArm\\\\p7/00.avi',\n",
       " 'C:/Users/LuisR/Desktop/visapient/Video/TrainVideo/golf0213_driving\\\\DSWrongArm\\\\p8/00.avi',\n",
       " 'C:/Users/LuisR/Desktop/visapient/Video/TrainVideo/golf0213_driving\\\\DSWrongHand\\\\p1/00.avi',\n",
       " 'C:/Users/LuisR/Desktop/visapient/Video/TrainVideo/golf0213_driving\\\\DSWrongHand\\\\p2/00.avi',\n",
       " 'C:/Users/LuisR/Desktop/visapient/Video/TrainVideo/golf0213_driving\\\\DSWrongHand\\\\p3/00.avi',\n",
       " 'C:/Users/LuisR/Desktop/visapient/Video/TrainVideo/golf0213_driving\\\\DSWrongHand\\\\p4/00.avi',\n",
       " 'C:/Users/LuisR/Desktop/visapient/Video/TrainVideo/golf0213_driving\\\\DSWrongHand\\\\p5/00.avi',\n",
       " 'C:/Users/LuisR/Desktop/visapient/Video/TrainVideo/golf0213_driving\\\\DSWrongHand\\\\p6/00.avi',\n",
       " 'C:/Users/LuisR/Desktop/visapient/Video/TrainVideo/golf0213_driving\\\\DSWrongHand\\\\p7/00.avi',\n",
       " 'C:/Users/LuisR/Desktop/visapient/Video/TrainVideo/golf0213_driving\\\\DSWrongHand\\\\p8/00.avi',\n",
       " 'C:/Users/LuisR/Desktop/visapient/Video/TrainVideo/golf0213_driving\\\\DU1Right\\\\p1/00.avi',\n",
       " 'C:/Users/LuisR/Desktop/visapient/Video/TrainVideo/golf0213_driving\\\\DU1Right\\\\p2/00.avi',\n",
       " 'C:/Users/LuisR/Desktop/visapient/Video/TrainVideo/golf0213_driving\\\\DU1Right\\\\p3/00.avi',\n",
       " 'C:/Users/LuisR/Desktop/visapient/Video/TrainVideo/golf0213_driving\\\\DU1Right\\\\p4/00.avi',\n",
       " 'C:/Users/LuisR/Desktop/visapient/Video/TrainVideo/golf0213_driving\\\\DU1Right\\\\p5/00.avi',\n",
       " 'C:/Users/LuisR/Desktop/visapient/Video/TrainVideo/golf0213_driving\\\\DU1Right\\\\p6/00.avi',\n",
       " 'C:/Users/LuisR/Desktop/visapient/Video/TrainVideo/golf0213_driving\\\\DU1Right\\\\p7/00.avi',\n",
       " 'C:/Users/LuisR/Desktop/visapient/Video/TrainVideo/golf0213_driving\\\\DU1Right\\\\p8/00.avi',\n",
       " 'C:/Users/LuisR/Desktop/visapient/Video/TrainVideo/golf0213_driving\\\\DU1WrongArm\\\\p1/00.avi',\n",
       " 'C:/Users/LuisR/Desktop/visapient/Video/TrainVideo/golf0213_driving\\\\DU1WrongArm\\\\p2/00.avi',\n",
       " 'C:/Users/LuisR/Desktop/visapient/Video/TrainVideo/golf0213_driving\\\\DU1WrongArm\\\\p3/00.avi',\n",
       " 'C:/Users/LuisR/Desktop/visapient/Video/TrainVideo/golf0213_driving\\\\DU1WrongArm\\\\p4/00.avi',\n",
       " 'C:/Users/LuisR/Desktop/visapient/Video/TrainVideo/golf0213_driving\\\\DU1WrongArm\\\\p5/00.avi',\n",
       " 'C:/Users/LuisR/Desktop/visapient/Video/TrainVideo/golf0213_driving\\\\DU1WrongArm\\\\p6/00.avi',\n",
       " 'C:/Users/LuisR/Desktop/visapient/Video/TrainVideo/golf0213_driving\\\\DU1WrongArm\\\\p7/00.avi',\n",
       " 'C:/Users/LuisR/Desktop/visapient/Video/TrainVideo/golf0213_driving\\\\DU1WrongArm\\\\p8/00.avi',\n",
       " 'C:/Users/LuisR/Desktop/visapient/Video/TrainVideo/golf0213_driving\\\\DU2NoTurn\\\\p1/00.avi',\n",
       " 'C:/Users/LuisR/Desktop/visapient/Video/TrainVideo/golf0213_driving\\\\DU2NoTurn\\\\p2/00.avi',\n",
       " 'C:/Users/LuisR/Desktop/visapient/Video/TrainVideo/golf0213_driving\\\\DU2NoTurn\\\\p3/00.avi',\n",
       " 'C:/Users/LuisR/Desktop/visapient/Video/TrainVideo/golf0213_driving\\\\DU2NoTurn\\\\p4/00.avi',\n",
       " 'C:/Users/LuisR/Desktop/visapient/Video/TrainVideo/golf0213_driving\\\\DU2NoTurn\\\\p5/00.avi',\n",
       " 'C:/Users/LuisR/Desktop/visapient/Video/TrainVideo/golf0213_driving\\\\DU2NoTurn\\\\p6/00.avi',\n",
       " 'C:/Users/LuisR/Desktop/visapient/Video/TrainVideo/golf0213_driving\\\\DU2NoTurn\\\\p7/00.avi',\n",
       " 'C:/Users/LuisR/Desktop/visapient/Video/TrainVideo/golf0213_driving\\\\DU2NoTurn\\\\p8/00.avi',\n",
       " 'C:/Users/LuisR/Desktop/visapient/Video/TrainVideo/golf0213_driving\\\\DU2Right\\\\p1/00.avi',\n",
       " 'C:/Users/LuisR/Desktop/visapient/Video/TrainVideo/golf0213_driving\\\\DU2Right\\\\p2/00.avi',\n",
       " 'C:/Users/LuisR/Desktop/visapient/Video/TrainVideo/golf0213_driving\\\\DU2Right\\\\p3/00.avi',\n",
       " 'C:/Users/LuisR/Desktop/visapient/Video/TrainVideo/golf0213_driving\\\\DU2Right\\\\p4/00.avi',\n",
       " 'C:/Users/LuisR/Desktop/visapient/Video/TrainVideo/golf0213_driving\\\\DU2Right\\\\p5/00.avi',\n",
       " 'C:/Users/LuisR/Desktop/visapient/Video/TrainVideo/golf0213_driving\\\\DU2Right\\\\p6/00.avi',\n",
       " 'C:/Users/LuisR/Desktop/visapient/Video/TrainVideo/golf0213_driving\\\\DU2Right\\\\p7/00.avi',\n",
       " 'C:/Users/LuisR/Desktop/visapient/Video/TrainVideo/golf0213_driving\\\\DU2Right\\\\p8/00.avi',\n",
       " 'C:/Users/LuisR/Desktop/visapient/Video/TrainVideo/golf0213_driving\\\\DU2WrongArm\\\\p1/00.avi',\n",
       " 'C:/Users/LuisR/Desktop/visapient/Video/TrainVideo/golf0213_driving\\\\DU2WrongArm\\\\p2/00.avi',\n",
       " 'C:/Users/LuisR/Desktop/visapient/Video/TrainVideo/golf0213_driving\\\\DU2WrongArm\\\\p3/00.avi',\n",
       " 'C:/Users/LuisR/Desktop/visapient/Video/TrainVideo/golf0213_driving\\\\DU2WrongArm\\\\p4/00.avi',\n",
       " 'C:/Users/LuisR/Desktop/visapient/Video/TrainVideo/golf0213_driving\\\\DU2WrongArm\\\\p5/00.avi',\n",
       " 'C:/Users/LuisR/Desktop/visapient/Video/TrainVideo/golf0213_driving\\\\DU2WrongArm\\\\p6/00.avi',\n",
       " 'C:/Users/LuisR/Desktop/visapient/Video/TrainVideo/golf0213_driving\\\\DU2WrongArm\\\\p7/00.avi',\n",
       " 'C:/Users/LuisR/Desktop/visapient/Video/TrainVideo/golf0213_driving\\\\DU2WrongArm\\\\p8/00.avi']"
      ]
     },
     "execution_count": 44,
     "metadata": {},
     "output_type": "execute_result"
    }
   ],
   "source": [
    "AVIS"
   ]
  },
  {
   "cell_type": "code",
   "execution_count": null,
   "metadata": {},
   "outputs": [],
   "source": []
  },
  {
   "cell_type": "code",
   "execution_count": 9,
   "metadata": {},
   "outputs": [],
   "source": [
    "avi=[]"
   ]
  },
  {
   "cell_type": "code",
   "execution_count": 15,
   "metadata": {},
   "outputs": [],
   "source": [
    "avi.append('C:/Users/LuisR/Desktop/visapient/Video/TrainVideo/golf0210/SWrong/p5/03.avi')"
   ]
  },
  {
   "cell_type": "code",
   "execution_count": 16,
   "metadata": {},
   "outputs": [
    {
     "data": {
      "text/plain": [
       "['C:/Users/LuisR/Desktop/visapient/Video/TrainVideo/golf0210/FWrong/p4/00.avi',\n",
       " 'C:/Users/LuisR/Desktop/visapient/Video/TrainVideo/golf0210/FRight/p4/00.avi',\n",
       " 'C:/Users/LuisR/Desktop/visapient/Video/TrainVideo/golf0210/Yes/p4/00.avi',\n",
       " 'C:/Users/LuisR/Desktop/visapient/Video/TrainVideo/golf0210/Yes/p4/03.avi',\n",
       " 'C:/Users/LuisR/Desktop/visapient/Video/TrainVideo/golf0210/Yes/p5/03.avi',\n",
       " 'C:/Users/LuisR/Desktop/visapient/Video/TrainVideo/golf0210/SWrong/p5/03.avi']"
      ]
     },
     "execution_count": 16,
     "metadata": {},
     "output_type": "execute_result"
    }
   ],
   "source": [
    "avi"
   ]
  },
  {
   "cell_type": "code",
   "execution_count": 25,
   "metadata": {},
   "outputs": [],
   "source": [
    "act=GetActions(avi)"
   ]
  },
  {
   "cell_type": "code",
   "execution_count": 26,
   "metadata": {},
   "outputs": [
    {
     "data": {
      "text/plain": [
       "['FRight', 'SWrong', 'FWrong', 'Yes']"
      ]
     },
     "execution_count": 26,
     "metadata": {},
     "output_type": "execute_result"
    }
   ],
   "source": [
    "act"
   ]
  },
  {
   "cell_type": "code",
   "execution_count": null,
   "metadata": {},
   "outputs": [],
   "source": []
  },
  {
   "cell_type": "code",
   "execution_count": 4,
   "metadata": {},
   "outputs": [
    {
     "data": {
      "text/plain": [
       "['.ipynb_checkpoints',\n",
       " 'DeleteWrong.ipynb',\n",
       " 'DeleteWrong.py',\n",
       " 'FRight',\n",
       " 'FWrong',\n",
       " 'golf0201_10.csv',\n",
       " 'golf0201_10.xlsx',\n",
       " 'golf0201_15.csv',\n",
       " 'golf0201_15.xlsx',\n",
       " 'SRight',\n",
       " 'SWrong',\n",
       " 'UNoTurn',\n",
       " 'URight',\n",
       " 'UWrongArm',\n",
       " 'UWrongFoot',\n",
       " 'WNoTurn',\n",
       " 'WPoor',\n",
       " 'WRight',\n",
       " 'WWrongFoot']"
      ]
     },
     "execution_count": 4,
     "metadata": {},
     "output_type": "execute_result"
    }
   ],
   "source": [
    "action"
   ]
  },
  {
   "cell_type": "code",
   "execution_count": 6,
   "metadata": {},
   "outputs": [
    {
     "ename": "TypeError",
     "evalue": "'str' object cannot be interpreted as an integer",
     "output_type": "error",
     "traceback": [
      "\u001b[1;31m---------------------------------------------------------------------------\u001b[0m",
      "\u001b[1;31mTypeError\u001b[0m                                 Traceback (most recent call last)",
      "\u001b[1;32m<ipython-input-6-9f41042a4aca>\u001b[0m in \u001b[0;36m<module>\u001b[1;34m()\u001b[0m\n\u001b[1;32m----> 1\u001b[1;33m \u001b[0maction\u001b[0m\u001b[1;33m.\u001b[0m\u001b[0mpop\u001b[0m\u001b[1;33m(\u001b[0m\u001b[1;34m'.ipynb_checkpoints'\u001b[0m\u001b[1;33m)\u001b[0m\u001b[1;33m\u001b[0m\u001b[0m\n\u001b[0m",
      "\u001b[1;31mTypeError\u001b[0m: 'str' object cannot be interpreted as an integer"
     ]
    }
   ],
   "source": []
  },
  {
   "cell_type": "code",
   "execution_count": 5,
   "metadata": {},
   "outputs": [],
   "source": [
    "def CreateNewDir(act,peo,framesls,path):\n",
    "    for m in framesls:\n",
    "        for i in range(len(act)):\n",
    "            for j in range(peo):\n",
    "                NewPath = path + '/data_' + str(m) + '/' + act[i] + '/p' + str(j + 1)\n",
    "                os.makedirs(NewPath)\n",
    "#创建新的data文件夹，用来装后续生成的txt文件"
   ]
  },
  {
   "cell_type": "code",
   "execution_count": 6,
   "metadata": {},
   "outputs": [],
   "source": [
    "CreateNewDir(action,people,frame,path)"
   ]
  },
  {
   "cell_type": "code",
   "execution_count": 7,
   "metadata": {},
   "outputs": [],
   "source": [
    "def ToDoc(act,peo,framesls,vnum,MFolder):\n",
    "    doc = open('out.txt','w')\n",
    "    for k in framesls:\n",
    "        for i in range((len(act))):\n",
    "            for m in range(peo):\n",
    "                for j in range(vnum):\n",
    "                    h = str(j)\n",
    "                    print('python src/run_video_output{4}.py --video Video/TrainVideo/{3}/{0}/p{1}/{2}.avi --output Video/TrainVideo/{3}/data_{4}/{0}/p{1}/{2}.txt  --model cmu_640x480'.format(act[i], m+1, h.zfill(2), MFolder,k), file=doc)\n",
    "    doc.close()\n",
    "#循环创建全部指令，输出至文件"
   ]
  },
  {
   "cell_type": "code",
   "execution_count": 8,
   "metadata": {},
   "outputs": [],
   "source": [
    "ToDoc(action,people,frame,videonum,MainFolder)"
   ]
  },
  {
   "cell_type": "code",
   "execution_count": 12,
   "metadata": {},
   "outputs": [],
   "source": [
    "def ReadDoc():\n",
    "    result=[]\n",
    "    with open('out.txt','r') as f:\n",
    "        for line in f.readlines():\n",
    "            lines=line.strip('\\n')\n",
    "            result.append(lines)\n",
    "    return result\n",
    "#从文件中读入全部指令放入列表"
   ]
  },
  {
   "cell_type": "code",
   "execution_count": 13,
   "metadata": {},
   "outputs": [],
   "source": [
    "cmd=ReadDoc()"
   ]
  },
  {
   "cell_type": "code",
   "execution_count": 15,
   "metadata": {},
   "outputs": [
    {
     "data": {
      "text/plain": [
       "360"
      ]
     },
     "execution_count": 15,
     "metadata": {},
     "output_type": "execute_result"
    }
   ],
   "source": [
    "len(cmd)"
   ]
  },
  {
   "cell_type": "code",
   "execution_count": 16,
   "metadata": {},
   "outputs": [],
   "source": [
    "def RunCMD(comm):\n",
    "    for i in range(len(comm)):\n",
    "        os.system(comm[i])\n",
    "#运行生成的所有cmd指令，将文件输出至新生成的data文件夹中"
   ]
  },
  {
   "cell_type": "code",
   "execution_count": 17,
   "metadata": {},
   "outputs": [],
   "source": [
    "RunCMD(cmd)"
   ]
  },
  {
   "cell_type": "code",
   "execution_count": null,
   "metadata": {},
   "outputs": [],
   "source": []
  }
 ],
 "metadata": {
  "kernelspec": {
   "display_name": "Python 3",
   "language": "python",
   "name": "python3"
  },
  "language_info": {
   "codemirror_mode": {
    "name": "ipython",
    "version": 3
   },
   "file_extension": ".py",
   "mimetype": "text/x-python",
   "name": "python",
   "nbconvert_exporter": "python",
   "pygments_lexer": "ipython3",
   "version": "3.7.0"
  }
 },
 "nbformat": 4,
 "nbformat_minor": 2
}
