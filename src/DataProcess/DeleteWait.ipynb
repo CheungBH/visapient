{
 "cells": [
  {
   "cell_type": "code",
   "execution_count": 1,
   "metadata": {},
   "outputs": [],
   "source": [
    "import os\n",
    "import pandas as pd"
   ]
  },
  {
   "cell_type": "code",
   "execution_count": 2,
   "metadata": {},
   "outputs": [],
   "source": [
    "def FindWrong(csvfile,rawpath):\n",
    "    path=rawpath.replace('\\\\','/')\n",
    "    file=pd.read_csv(csvfile)\n",
    "    WrongMessage=file.values.tolist()\n",
    "    dellist=[]\n",
    "    waitlist=[]\n",
    "    for i in WrongMessage:\n",
    "        Wrongtxt=path+'/data_'+str(i[0])+'/'+i[1]+'/'+i[2]+'/'+str(i[3]).zfill(2)+'.txt'\n",
    "        if i[4] == 'del':\n",
    "            dellist.append(Wrongtxt)\n",
    "        else:\n",
    "            waitlist.append(Wrongtxt)\n",
    "    return dellist, waitlist"
   ]
  },
  {
   "cell_type": "code",
   "execution_count": 3,
   "metadata": {},
   "outputs": [],
   "source": [
    "Mainpath=os.getcwd()"
   ]
  },
  {
   "cell_type": "code",
   "execution_count": null,
   "metadata": {},
   "outputs": [],
   "source": [
    "csvPath=input(\"Please input the path of the csv:\") "
   ]
  },
  {
   "cell_type": "code",
   "execution_count": null,
   "metadata": {},
   "outputs": [],
   "source": [
    "dellist, waitlist = FindWrong(csvPath,Mainpath)"
   ]
  },
  {
   "cell_type": "code",
   "execution_count": 4,
   "metadata": {},
   "outputs": [],
   "source": [
    "def DeleteFile(FileList):\n",
    "    for i in FileList:\n",
    "        try:\n",
    "            os.remove(i)\n",
    "        except FileNotFoundError:\n",
    "            continue"
   ]
  },
  {
   "cell_type": "code",
   "execution_count": null,
   "metadata": {},
   "outputs": [],
   "source": [
    "DeleteFile(dellist)"
   ]
  },
  {
   "cell_type": "code",
   "execution_count": null,
   "metadata": {},
   "outputs": [],
   "source": [
    "DeleteFile(waitlist)"
   ]
  }
 ],
 "metadata": {
  "kernelspec": {
   "display_name": "py36",
   "language": "python",
   "name": "py36"
  },
  "language_info": {
   "codemirror_mode": {
    "name": "ipython",
    "version": 3
   },
   "file_extension": ".py",
   "mimetype": "text/x-python",
   "name": "python",
   "nbconvert_exporter": "python",
   "pygments_lexer": "ipython3",
   "version": "3.6.8"
  }
 },
 "nbformat": 4,
 "nbformat_minor": 2
}
