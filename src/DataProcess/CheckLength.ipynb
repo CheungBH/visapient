{
 "cells": [
  {
   "cell_type": "code",
   "execution_count": 1,
   "metadata": {},
   "outputs": [],
   "source": [
    "import os"
   ]
  },
  {
   "cell_type": "code",
   "execution_count": 2,
   "metadata": {},
   "outputs": [],
   "source": [
    "def GettxtPath(filedir):\n",
    "    txtls=[]\n",
    "    for dirpath,dirnames,filenames in os.walk(filedir):\n",
    "        path=dirpath.replace('\\\\','/')\n",
    "        for filename in filenames:\n",
    "            if filename[-4:] == '.txt':\n",
    "                txtls.append(path+'/'+filename)\n",
    "    return txtls"
   ]
  },
  {
   "cell_type": "code",
   "execution_count": 3,
   "metadata": {},
   "outputs": [],
   "source": [
    "MainPath = os.getcwd()"
   ]
  },
  {
   "cell_type": "code",
   "execution_count": 4,
   "metadata": {},
   "outputs": [],
   "source": [
    "txtList=GettxtPath(MainPath)"
   ]
  },
  {
   "cell_type": "code",
   "execution_count": 5,
   "metadata": {},
   "outputs": [
    {
     "data": {
      "text/plain": [
       "['C:/Users/LuisR/Desktop/visapient/DataProceesor/golf0128/data_15/Raw/FRight.txt',\n",
       " 'C:/Users/LuisR/Desktop/visapient/DataProceesor/golf0128/data_15/Raw/FWrong.txt',\n",
       " 'C:/Users/LuisR/Desktop/visapient/DataProceesor/golf0128/data_15/Raw/SRight.txt',\n",
       " 'C:/Users/LuisR/Desktop/visapient/DataProceesor/golf0128/data_15/Raw/SWrongHand.txt',\n",
       " 'C:/Users/LuisR/Desktop/visapient/DataProceesor/golf0128/data_15/Raw/UNoTurn.txt',\n",
       " 'C:/Users/LuisR/Desktop/visapient/DataProceesor/golf0128/data_15/Raw/URight.txt',\n",
       " 'C:/Users/LuisR/Desktop/visapient/DataProceesor/golf0128/data_15/Raw/UWrongArm.txt',\n",
       " 'C:/Users/LuisR/Desktop/visapient/DataProceesor/golf0128/data_15/Raw/UWrongFoot.txt',\n",
       " 'C:/Users/LuisR/Desktop/visapient/DataProceesor/golf0128/data_15/Raw/WNoTurn.txt',\n",
       " 'C:/Users/LuisR/Desktop/visapient/DataProceesor/golf0128/data_15/Raw/WPoor.txt',\n",
       " 'C:/Users/LuisR/Desktop/visapient/DataProceesor/golf0128/data_15/Raw/WRight.txt',\n",
       " 'C:/Users/LuisR/Desktop/visapient/DataProceesor/golf0128/data_15/Raw/WWrongFoot.txt']"
      ]
     },
     "execution_count": 5,
     "metadata": {},
     "output_type": "execute_result"
    }
   ],
   "source": [
    "txtList"
   ]
  },
  {
   "cell_type": "code",
   "execution_count": 7,
   "metadata": {},
   "outputs": [
    {
     "name": "stdout",
     "output_type": "stream",
     "text": [
      "79\n",
      "100\n",
      "230\n",
      "236\n",
      "52\n",
      "66\n",
      "65\n",
      "61\n",
      "33\n",
      "46\n",
      "49\n",
      "52\n"
     ]
    }
   ],
   "source": [
    "for i in txtList:\n",
    "    f=open(i)\n",
    "    n=len(f.readlines())\n",
    "    print(n)"
   ]
  },
  {
   "cell_type": "code",
   "execution_count": null,
   "metadata": {},
   "outputs": [],
   "source": []
  }
 ],
 "metadata": {
  "kernelspec": {
   "display_name": "Python 3",
   "language": "python",
   "name": "python3"
  },
  "language_info": {
   "codemirror_mode": {
    "name": "ipython",
    "version": 3
   },
   "file_extension": ".py",
   "mimetype": "text/x-python",
   "name": "python",
   "nbconvert_exporter": "python",
   "pygments_lexer": "ipython3",
   "version": "3.7.0"
  }
 },
 "nbformat": 4,
 "nbformat_minor": 2
}
